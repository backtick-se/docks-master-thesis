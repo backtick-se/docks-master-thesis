{
 "cells": [
  {
   "cell_type": "code",
   "execution_count": 37,
   "id": "fb2f8b80",
   "metadata": {},
   "outputs": [],
   "source": [
    "from loader import load_data"
   ]
  },
  {
   "cell_type": "code",
   "execution_count": 38,
   "id": "33ee33ab",
   "metadata": {},
   "outputs": [],
   "source": [
    "data = load_data()"
   ]
  },
  {
   "cell_type": "code",
   "execution_count": 39,
   "id": "16ab9c51",
   "metadata": {
    "scrolled": false
   },
   "outputs": [
    {
     "name": "stderr",
     "output_type": "stream",
     "text": [
      "100%|██████████| 55/55 [08:09<00:00,  8.89s/it]\n"
     ]
    }
   ],
   "source": [
    "from IPython.display import clear_output\n",
    "from tqdm import tqdm\n",
    "\n",
    "filtered = []\n",
    "\n",
    "for d in tqdm(data.values()):\n",
    "    print(d[0][0])\n",
    "    print()\n",
    "    inspect = input('Inspect this function (y/n): ')\n",
    "    print()\n",
    "    \n",
    "    if inspect == 'y':\n",
    "        versions = []\n",
    "        \n",
    "        for i, version in enumerate(d):\n",
    "            print(f'------------v{i}--------------')\n",
    "            print(version[0])\n",
    "            \n",
    "        keep = input('Which versions should be kept: ')\n",
    "        \n",
    "        for i in keep:\n",
    "            versions.append(d[int(i)])\n",
    "        \n",
    "        if versions: filtered.append(versions)\n",
    "    \n",
    "    clear_output(wait=True)\n",
    "        "
   ]
  },
  {
   "cell_type": "code",
   "execution_count": 40,
   "id": "fe1a74ff",
   "metadata": {},
   "outputs": [],
   "source": [
    "import pickle\n",
    "\n",
    "with open('click_funcdata.pickle', 'wb') as f:\n",
    "    pickle.dump(filtered, f, protocol=pickle.HIGHEST_PROTOCOL)"
   ]
  },
  {
   "cell_type": "code",
   "execution_count": 42,
   "id": "cfcab802",
   "metadata": {},
   "outputs": [],
   "source": [
    "from loader import load\n",
    "filtered = load('click_funcdata.pickle')"
   ]
  },
  {
   "cell_type": "code",
   "execution_count": 43,
   "id": "65a957f8",
   "metadata": {},
   "outputs": [
    {
     "name": "stderr",
     "output_type": "stream",
     "text": [
      "Token indices sequence length is longer than the specified maximum sequence length for this model (849 > 512). Running this sequence through the model will result in indexing errors\n"
     ]
    },
    {
     "data": {
      "text/plain": [
       "[['Invokes a command callback in exactly the way it expects.',\n",
       "  'Invokes a command callback in exactly the way it expects.'],\n",
       " ['Prints a message to the given file or stdout.',\n",
       "  'Prints a message to the given file or stdout.',\n",
       "  'Prints a message plus a newline to a given file or stdout.',\n",
       "  'Prints a message to stdout and a newline to a given file.'],\n",
       " ['Marks a callback that it wants to receive the current context\\n    object as first argument.',\n",
       "  'Marks a callback as wanting to receive the current context as first argument.'],\n",
       " ['Decorator to pass the object on the context of a Nested System.',\n",
       "  'Decorator to pass the object on the the\\n    context onwards.'],\n",
       " ['Creates a new command with the given name and optional class.',\n",
       "  'A decorator to create a new command with a specific name and optional class.'],\n",
       " ['Attaches an option to the command.',\n",
       "  'Attaches an argument to the command.'],\n",
       " ['Attaches an option to the command.', 'Attaches an option to the command.'],\n",
       " ['A function decorator to add a version option to the command line.',\n",
       "  'A function to add a version option to the command line.'],\n",
       " ['Command line tool that shows how to build complex\\n    with Click.',\n",
       "  'Manage a single node - tag\\n.'],\n",
       " ['This function takes a text and displays it via a pager on stdout.',\n",
       "  'Displays a text via a environment specific pager on stdout.',\n",
       "  'Prints a text to the screen via a pager.'],\n",
       " ['Checks if a stream is misconfigured if it s encoding is ASCII.',\n",
       "  'Checks if a stream is misconfigured if its encoding is ASCII.'],\n",
       " ['Pause the command and wait for the user to press any key to continue.',\n",
       "  'Pause the command and wait for the user to press any key to continue.'],\n",
       " ['Page through text by feeding it to another program.',\n",
       "  'Page through text by feeding it to another program.'],\n",
       " ['Internal helper to get the default value of the color flag.',\n",
       "  'Internal helper to get the default value of the color flag.'],\n",
       " ['Given an argument string this attempts to split it into small parts.',\n",
       "  'Splits a string into a list of tokens.'],\n",
       " ['Prints a message to the console.',\n",
       "  'Echo a message to the console with optional formatting.'],\n",
       " ['Return a condensed version of help string.',\n",
       "  'Returns a condensed version of help string.'],\n",
       " ['Returns a system stream for text processing.',\n",
       "  'Returns a system stream for text processing.'],\n",
       " ['Opens a file with the given name.',\n",
       "  'Opens a file with optional lazy open and optional atomic open.'],\n",
       " ['This returns the argument part of sys. argv in the most appropriate language for processing.',\n",
       "  'Returns the argument part of sys. argv removing the first\\n    value which is the name of the script.'],\n",
       " ['Open a file in a text file wrapper.',\n",
       "  'Wraps open with a special case for binary mode.']]"
      ]
     },
     "execution_count": 43,
     "metadata": {},
     "output_type": "execute_result"
    }
   ],
   "source": [
    "from transformers import RobertaTokenizer, T5ForConditionalGeneration\n",
    "\n",
    "tokenizer = RobertaTokenizer.from_pretrained('Salesforce/codet5-base')\n",
    "code_t5 = T5ForConditionalGeneration.from_pretrained('Salesforce/codet5-base-multi-sum')\n",
    "\n",
    "def summarize(code):\n",
    "    input_ids = tokenizer(code, return_tensors=\"pt\").input_ids\n",
    "    generated_ids = code_t5.generate(input_ids, max_length=50)\n",
    "    summary = tokenizer.decode(generated_ids[0], skip_special_tokens=True)\n",
    "    return summary\n",
    "    \n",
    "summaries = [[] for v in filtered]\n",
    "\n",
    "for i, func in enumerate(filtered):\n",
    "    for version in func:\n",
    "        summaries[i].append(summarize(version[2]))\n",
    "\n",
    "summaries"
   ]
  },
  {
   "cell_type": "code",
   "execution_count": 30,
   "id": "c9c2094b",
   "metadata": {},
   "outputs": [
    {
     "data": {
      "text/plain": [
       "6"
      ]
     },
     "execution_count": 30,
     "metadata": {},
     "output_type": "execute_result"
    }
   ],
   "source": [
    "sum(map(len, filtered))"
   ]
  },
  {
   "cell_type": "code",
   "execution_count": null,
   "id": "9aed8be9",
   "metadata": {},
   "outputs": [],
   "source": []
  }
 ],
 "metadata": {
  "kernelspec": {
   "display_name": "Python 3",
   "language": "python",
   "name": "python3"
  },
  "language_info": {
   "codemirror_mode": {
    "name": "ipython",
    "version": 3
   },
   "file_extension": ".py",
   "mimetype": "text/x-python",
   "name": "python",
   "nbconvert_exporter": "python",
   "pygments_lexer": "ipython3",
   "version": "3.8.8"
  }
 },
 "nbformat": 4,
 "nbformat_minor": 5
}
