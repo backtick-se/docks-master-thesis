{
 "cells": [
  {
   "cell_type": "code",
   "execution_count": 30,
   "id": "114e71da",
   "metadata": {},
   "outputs": [],
   "source": [
    "import os\n",
    "import sys\n",
    "\n",
    "module_path = os.path.abspath(os.path.join('..'))\n",
    "if module_path not in sys.path:\n",
    "    sys.path.append(module_path)\n",
    "    \n",
    "from utils import load, dump, distill, categories, load_scraped_data, load_diff_data\n",
    "from evaluate import eval, Evaluator\n",
    "from os import getcwd\n",
    "from tqdm import tqdm\n",
    "import torch\n",
    "\n",
    "root = f'{getcwd()}/..'\n",
    "path = lambda p: f'{root}/../out/{p}'"
   ]
  },
  {
   "cell_type": "code",
   "execution_count": 9,
   "id": "65692512",
   "metadata": {},
   "outputs": [],
   "source": [
    "datafile = f'{root}/../scraped_diffs.pickle'"
   ]
  },
  {
   "cell_type": "code",
   "execution_count": 5,
   "id": "06dbf100",
   "metadata": {},
   "outputs": [],
   "source": [
    "best_nl = path('distilbert-base-uncased_scraped_5e-04_thaw1.pt')\n",
    "best_diff = path('CodeBERTa-small-v1_diffs_pp_dis_solid.pt')"
   ]
  },
  {
   "cell_type": "code",
   "execution_count": 6,
   "id": "7c145b0b",
   "metadata": {},
   "outputs": [],
   "source": [
    "eval_nl = Evaluator(best_nl)\n",
    "eval_diff = Evaluator(best_diff)"
   ]
  },
  {
   "cell_type": "code",
   "execution_count": 33,
   "id": "62ee2ebf",
   "metadata": {},
   "outputs": [],
   "source": [
    "nl_in, nl_labels = load_scraped_data(datafile)\n",
    "di_in, di_labels = load_diff_data(datafile)\n",
    "\n",
    "assert(nl_labels == di_labels)\n",
    "\n",
    "inputs = [*zip(nl_in, di_in)]\n",
    "labels = nl_labels"
   ]
  },
  {
   "cell_type": "code",
   "execution_count": 34,
   "id": "5e31ebf4",
   "metadata": {},
   "outputs": [],
   "source": [
    "split_percent = 0.8\n",
    "split=round(len(inputs)*split_percent)\n",
    "\n",
    "inputs = inputs[split:]\n",
    "labels = labels[split:]\n",
    "\n",
    "assert(len(inputs) == len(labels))"
   ]
  },
  {
   "cell_type": "code",
   "execution_count": 36,
   "id": "73d53fee",
   "metadata": {},
   "outputs": [
    {
     "name": "stderr",
     "output_type": "stream",
     "text": [
      "100%|██████████| 7710/7710 [1:06:19<00:00,  1.94it/s] \n"
     ]
    }
   ],
   "source": [
    "metaset = {'inputs': [], 'labels': []}\n",
    "\n",
    "# Stacked outputs from both classifiers\n",
    "# M1 (nl) = [n1, n2, n3, n4]\n",
    "# M2 (diff) = [d1, d2, d3, d4]\n",
    "# Metaset = [[n1, n2, n3, n4, d1, d2, d3, d4]]\n",
    "with torch.no_grad():\n",
    "    for (nl, diff), label in tqdm([*zip(inputs, labels)]):\n",
    "        m1 = eval_nl.predict(nl, raw=True)\n",
    "        m2 = eval_diff.predict(diff, raw=True)\n",
    "        stacked = torch.cat((m1, m2), -1)\n",
    "        metaset['inputs'].append(stacked)\n",
    "        metaset['labels'].append(label)"
   ]
  },
  {
   "cell_type": "code",
   "execution_count": null,
   "id": "2dc4c563",
   "metadata": {},
   "outputs": [],
   "source": [
    "split_percent = 0.8\n",
    "split=round(len(metaset['inputs'])*split_percent)\n",
    "\n",
    "train_inputs = metaset['inputs'][:split]\n",
    "train_labels = metaset['labels'][:split]\n",
    "valid_inputs = metaset['inputs'][split:]\n",
    "valid_labels = metaset['labels'][split:]\n",
    "\n",
    "datasets = DatasetDict({\n",
    "    'train': Dataset.from_dict({\n",
    "      'inputs': train_inputs,\n",
    "      'labels': [categories.index(c) for c in train_labels]\n",
    "    }),\n",
    "    'valid': Dataset.from_dict({\n",
    "      'inputs': valid_inputs,\n",
    "      'labels': [categories.index(c) for c in valid_labels]\n",
    "    }),\n",
    "})"
   ]
  },
  {
   "cell_type": "code",
   "execution_count": 37,
   "id": "dc466939",
   "metadata": {},
   "outputs": [
    {
     "data": {
      "text/plain": [
       "7710"
      ]
     },
     "execution_count": 37,
     "metadata": {},
     "output_type": "execute_result"
    }
   ],
   "source": [
    "class Model(torch.nn.Module):\n",
    "\n",
    "    def __init__(self, inp, out):\n",
    "\n",
    "        super(Model, self).__init__()\n",
    "\n",
    "        self.linear = torch.nn.Linear(inp, out)\n",
    "\n",
    "    def forward(self, x):\n",
    "\n",
    "        outputs = self.linear(x)\n",
    "\n",
    "        return outputs"
   ]
  },
  {
   "cell_type": "code",
   "execution_count": null,
   "id": "05c70fd7",
   "metadata": {},
   "outputs": [],
   "source": [
    "batch = 50\n",
    "epochs = len(metaset['inputs']) / batch\n",
    "inp = 8\n",
    "out = 4\n",
    "alpha = 1e-3\n",
    "model = LogisticRegression(inp, out)\n",
    "loss = torch.nn.CrossEntropyLoss()\n",
    "optimizer = torch.optim.SGD(model.parameters(), lr=alpha)"
   ]
  },
  {
   "cell_type": "code",
   "execution_count": null,
   "id": "0de8312a",
   "metadata": {},
   "outputs": [],
   "source": [
    "itr = 0\n",
    "\n",
    "for epoch in range(int(epochs)):\n",
    "\n",
    "    for i, (images, labels) in enumerate(train_loader):\n",
    "\n",
    "    images = Variable(images.view(-1, 28 * 28))\n",
    "\n",
    "    labels = Variable(labels)\n",
    "\n",
    "    optimizer.zero_grad()\n",
    "\n",
    "    outputs = model(images)\n",
    "\n",
    "    lossFunc = loss(outputs, labels)\n",
    "\n",
    "    lossFunc.backward()\n",
    "\n",
    "    optimizer.step()\n",
    "\n",
    "    itr+=1\n",
    "\n",
    "    if itr%500==0:\n",
    "\n",
    "        correct = 0\n",
    "\n",
    "        total = 0\n",
    "\n",
    "for images, labels in test_loader:\n",
    "\n",
    "images = Variable(images.view(-1, 28*28))\n",
    "\n",
    "outputs = model(images)\n",
    "\n",
    "_, predicted = torch.max(outputs.data, 1)\n",
    "\n",
    "total+= labels.size(0)\n",
    "\n",
    "correct+= (predicted == labels).sum()\n",
    "\n",
    "accuracy = 100 * correct/total\n",
    "\n",
    "print(\"Iteration is {}. Loss is {}. Accuracy is {}.\".format(itr, lossFunc.item(), accuracy))"
   ]
  }
 ],
 "metadata": {
  "kernelspec": {
   "display_name": "Python 3 (ipykernel)",
   "language": "python",
   "name": "python3"
  },
  "language_info": {
   "codemirror_mode": {
    "name": "ipython",
    "version": 3
   },
   "file_extension": ".py",
   "mimetype": "text/x-python",
   "name": "python",
   "nbconvert_exporter": "python",
   "pygments_lexer": "ipython3",
   "version": "3.9.12"
  }
 },
 "nbformat": 4,
 "nbformat_minor": 5
}
