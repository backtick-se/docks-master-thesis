{
 "cells": [
  {
   "cell_type": "markdown",
   "metadata": {},
   "source": [
    "# Tf-Idf experiments on Cowait"
   ]
  },
  {
   "cell_type": "code",
   "execution_count": 9,
   "metadata": {},
   "outputs": [],
   "source": [
    "from sklearn.feature_extraction.text import TfidfVectorizer\n",
    "from sklearn.metrics.pairwise import linear_kernel\n",
    "import numpy as np\n",
    "import os"
   ]
  },
  {
   "cell_type": "code",
   "execution_count": 10,
   "metadata": {},
   "outputs": [
    {
     "name": "stdout",
     "output_type": "stream",
     "text": [
      "fatal: destination path 'cowait' already exists and is not an empty directory.\r\n"
     ]
    }
   ],
   "source": [
    "!git clone https://github.com/backtick-se/cowait"
   ]
  },
  {
   "cell_type": "markdown",
   "metadata": {},
   "source": [
    "Några hjälpfunktioner:"
   ]
  },
  {
   "cell_type": "code",
   "execution_count": 11,
   "metadata": {},
   "outputs": [],
   "source": [
    "def find(start_dir, ext):\n",
    "    \"\"\" Search files recursively \"\"\"\n",
    "    files = []\n",
    "    for file in os.listdir(start_dir):\n",
    "        path = start_dir + \"/\" + file\n",
    "        if os.path.isdir(path):\n",
    "            files += find(path, ext)\n",
    "        elif os.path.isfile(path) and file.endswith(ext):\n",
    "            files.append(path)\n",
    "    return files\n",
    "\n",
    "def read(path):\n",
    "    with open(path) as f:\n",
    "        content = f.read()\n",
    "    return content"
   ]
  },
  {
   "cell_type": "markdown",
   "metadata": {},
   "source": [
    "Läs in docs filer från Cowait som corpus"
   ]
  },
  {
   "cell_type": "code",
   "execution_count": 12,
   "metadata": {
    "scrolled": true
   },
   "outputs": [
    {
     "name": "stdout",
     "output_type": "stream",
     "text": [
      "34\n"
     ]
    }
   ],
   "source": [
    "doc_files = find('cowait', '.md')\n",
    "corpus = [read(file) for file in doc_files]\n",
    "print(len(corpus))"
   ]
  },
  {
   "cell_type": "markdown",
   "metadata": {},
   "source": [
    "Modellen - tf-idf med sklearn"
   ]
  },
  {
   "cell_type": "code",
   "execution_count": 13,
   "metadata": {},
   "outputs": [],
   "source": [
    "vectorizer = TfidfVectorizer()\n",
    "tfidf = vectorizer.fit_transform(corpus)\n",
    "\n",
    "def match(text, tfidf):\n",
    "    query = vectorizer.transform([text])\n",
    "    cosine_sims = linear_kernel(query, tfidf).flatten()\n",
    "    return sorted(zip(cosine_sims, doc_files), reverse=True)"
   ]
  },
  {
   "cell_type": "markdown",
   "metadata": {},
   "source": [
    "Testa matcha text från PR med docs"
   ]
  },
  {
   "cell_type": "code",
   "execution_count": 14,
   "metadata": {},
   "outputs": [
    {
     "data": {
      "text/plain": [
       "[(0.31527326691095464, 'cowait/docs/tasks/remote-procedure-calls.md'),\n",
       " (0.12824104782947884, 'cowait/docs/tasks/task-lifecycle-methods.md'),\n",
       " (0.12419023110943396, 'cowait/docs/get-started/next-steps.md')]"
      ]
     },
     "execution_count": 14,
     "metadata": {},
     "output_type": "execute_result"
    }
   ],
   "source": [
    "pr = \"\"\"\n",
    "Fix RPC call race condition #309\n",
    "\n",
    "refactor to avoid a potential race condition where the RpcCall\n",
    "object may be deleted from the pending call list before reaching\n",
    "the wrap_future resolve #308\n",
    "\n",
    "- fix a race condition in RPC calls\n",
    "\n",
    "\"\"\"\n",
    "\n",
    "match(pr, tfidf)[:3]"
   ]
  },
  {
   "cell_type": "code",
   "execution_count": 15,
   "metadata": {},
   "outputs": [
    {
     "data": {
      "text/plain": [
       "[(0.16879200401235867, 'cowait/docs/get-started/installation.md'),\n",
       " (0.16849455468675906, 'cowait/docs/get-started/building-and-pushing.md'),\n",
       " (0.16819006952937532, 'cowait/README.md')]"
      ]
     },
     "execution_count": 15,
     "metadata": {},
     "output_type": "execute_result"
    }
   ],
   "source": [
    "pr = \"\"\"\n",
    "Workaround for Docker API response problem in Docker for Mac #200\n",
    "\n",
    "Fixes issues caused by the problem described here: docker/docker-py#2696\n",
    "\n",
    "- implement workaround for docker for mac problem\n",
    "fixes docker/docker-py#2696 by catching\n",
    "exceptions.\n",
    "- bump version to 0.3.4\n",
    "\n",
    "\"\"\"\n",
    "\n",
    "match(pr, tfidf)[:3]"
   ]
  },
  {
   "cell_type": "code",
   "execution_count": 16,
   "metadata": {
    "scrolled": true
   },
   "outputs": [
    {
     "name": "stdout",
     "output_type": "stream",
     "text": [
      "---\n",
      "title: Installation\n",
      "---\n",
      "\n",
      "Installing Cowait on your local machine.\n",
      "\n",
      "## Requirements\n",
      "\n",
      "Cowait is a python library that packages and runs tasks in Docker containers, both locally and on [Kubernetes](https://kubernetes.io/). The base requirements are:\n",
      "\n",
      "- Python 3.6+\n",
      "- [Docker](https://docs.docker.com/get-docker/)\n",
      "\n",
      "## Installation\n",
      "\n",
      "Cowait is available on [Pypi](https://pypi.org/project/cowait/), you can install it with `pip`:\n",
      "\n",
      "```shell\n",
      "python -m pip install cowait\n",
      "```\n",
      "\n",
      "We recommend installing in a virtual environment ([virtualenv](https://github.com/pypa/virtualenv)/[venv](https://docs.python.org/3/library/venv.html)) or using a python package manager such as [Poetry](https://python-poetry.org/) or [Pipenv](https://pipenv.pypa.io/en/latest/).\n",
      "\n",
      "To quickly get started with Cowait, we provide a slim Docker image (~59 MB) that includes the Cowait library. It is based on this [Dockerfile](https://github.com/backtick-se/cowait/blob/master/Dockerfile). Pull the latest image.\n",
      "\n",
      "```shell\n",
      "docker pull cowait/task\n",
      "```\n",
      "\n",
      "You are now ready for your [first steps](/docs/get-started/first-steps/).\n",
      "\n",
      "## Development\n",
      "\n",
      "If you would like to contribute to Cowait, you may install Cowait from source:\n",
      "\n",
      "1. Clone the repository\n",
      "\n",
      "```shell\n",
      "git clone git@github.com:backtick-se/cowait.git\n",
      "cd cowait\n",
      "```\n",
      "\n",
      "2. It is recommended to first setup a virtual env of your choice. A `pyproject.toml` for Poetry is provided for your convenience in the root of the repository.\n",
      "\n",
      "3. Install the library using pip's editable mode.\n",
      "\n",
      "```shell\n",
      "python -m pip install -e .\n",
      "```\n",
      "\n",
      "4. Make changes to the library. Note that changes to the `cowait/` directory require a rebuild of the base image. You can do this with the provided helper script in the root of the repository:\n",
      "\n",
      "```shell\n",
      "./build.sh\n",
      "```\n",
      "\n",
      "5. Note that tasks you use to test your new feature or bug-fix will have to be rebuilt with `cowait build` for the changes to take effect.\n",
      "\n"
     ]
    }
   ],
   "source": [
    "print(read('cowait/docs/get-started/installation.md'))"
   ]
  },
  {
   "cell_type": "code",
   "execution_count": null,
   "metadata": {},
   "outputs": [],
   "source": []
  },
  {
   "cell_type": "code",
   "execution_count": null,
   "metadata": {},
   "outputs": [],
   "source": []
  }
 ],
 "metadata": {
  "kernelspec": {
   "display_name": "Python 3",
   "language": "python",
   "name": "python3"
  },
  "language_info": {
   "codemirror_mode": {
    "name": "ipython",
    "version": 3
   },
   "file_extension": ".py",
   "mimetype": "text/x-python",
   "name": "python",
   "nbconvert_exporter": "python",
   "pygments_lexer": "ipython3",
   "version": "3.8.3"
  }
 },
 "nbformat": 4,
 "nbformat_minor": 4
}
