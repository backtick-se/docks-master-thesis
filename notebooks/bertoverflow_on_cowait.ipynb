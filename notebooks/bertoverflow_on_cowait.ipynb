{
 "cells": [
  {
   "cell_type": "code",
   "execution_count": 23,
   "id": "7087df42",
   "metadata": {},
   "outputs": [],
   "source": [
    "from utils import load, dump\n",
    "from evaluate import eval\n",
    "from os import getcwd\n",
    "from sklearn.metrics import accuracy_score, f1_score, confusion_matrix, classification_report\n",
    "from build import categories\n",
    "from transformers import AutoTokenizer, AutoModelForSequenceClassification\n",
    "import matplotlib.pyplot as plt\n",
    "import torch\n",
    "import re"
   ]
  },
  {
   "cell_type": "code",
   "execution_count": 14,
   "id": "cf5125b4",
   "metadata": {},
   "outputs": [],
   "source": [
    "root = f'{getcwd()}/..'"
   ]
  },
  {
   "cell_type": "markdown",
   "id": "f933867e",
   "metadata": {},
   "source": [
    "## Let's try applying the BERTOverflow classifier on our annotated Cowait data"
   ]
  },
  {
   "cell_type": "code",
   "execution_count": 15,
   "id": "851d7497",
   "metadata": {},
   "outputs": [],
   "source": [
    "data = load(f'{root}/data/prd_backtick-se_cowait_annotated.json')"
   ]
  },
  {
   "cell_type": "code",
   "execution_count": 16,
   "id": "509176a9",
   "metadata": {
    "scrolled": true
   },
   "outputs": [
    {
     "name": "stderr",
     "output_type": "stream",
     "text": [
      "Some weights of BertForSequenceClassification were not initialized from the model checkpoint at jeniya/BERTOverflow and are newly initialized: ['classifier.weight', 'classifier.bias']\n",
      "You should probably TRAIN this model on a down-stream task to be able to use it for predictions and inference.\n"
     ]
    },
    {
     "data": {
      "text/plain": [
       "<All keys matched successfully>"
      ]
     },
     "execution_count": 16,
     "metadata": {},
     "output_type": "execute_result"
    }
   ],
   "source": [
    "checkpoint = \"jeniya/BERTOverflow\"\n",
    "model = AutoModelForSequenceClassification.from_pretrained(checkpoint, num_labels=len(categories))\n",
    "tokenizer = AutoTokenizer.from_pretrained(checkpoint)\n",
    "\n",
    "cp = torch.load(f'{root}/data/bertoverflow_model_big.pt', map_location=torch.device('cpu'))\n",
    "model.load_state_dict(cp['model_state_dict'])"
   ]
  },
  {
   "cell_type": "code",
   "execution_count": 17,
   "id": "643d35a1",
   "metadata": {},
   "outputs": [],
   "source": [
    "metrics = cp['metrics']"
   ]
  },
  {
   "cell_type": "code",
   "execution_count": 31,
   "id": "1d772f17",
   "metadata": {},
   "outputs": [],
   "source": [
    "taccs = [*map(lambda e: e['train_acc']['accuracy'], metrics)]\n",
    "vaccs = [*map(lambda e: e['val_acc']['accuracy'], metrics)]\n",
    "tloss = [*map(lambda e: e['train_loss'].item(), metrics)]\n",
    "vloss = [*map(lambda e: e['val_loss'].item(), metrics)]"
   ]
  },
  {
   "cell_type": "code",
   "execution_count": 38,
   "id": "8ffbaf30",
   "metadata": {
    "scrolled": true
   },
   "outputs": [
    {
     "data": {
      "text/plain": [
       "[<matplotlib.lines.Line2D at 0x12d48ea90>]"
      ]
     },
     "execution_count": 38,
     "metadata": {},
     "output_type": "execute_result"
    },
    {
     "data": {
      "image/png": "[encoded data removed]",
      "text/plain": [
       "<Figure size 432x288 with 1 Axes>"
      ]
     },
     "metadata": {
      "needs_background": "light"
     },
     "output_type": "display_data"
    }
   ],
   "source": [
    "plt.figure()\n",
    "plt.plot(taccs, 'b-')\n",
    "plt.plot(vaccs, 'r-')"
   ]
  },
  {
   "cell_type": "code",
   "execution_count": 40,
   "id": "20281de3",
   "metadata": {},
   "outputs": [
    {
     "data": {
      "text/plain": [
       "[<matplotlib.lines.Line2D at 0x12d55dd30>]"
      ]
     },
     "execution_count": 40,
     "metadata": {},
     "output_type": "execute_result"
    },
    {
     "data": {
      "image/png": "[encoded data removed]",
      "text/plain": [
       "<Figure size 432x288 with 1 Axes>"
      ]
     },
     "metadata": {
      "needs_background": "light"
     },
     "output_type": "display_data"
    }
   ],
   "source": [
    "plt.figure()\n",
    "plt.plot(tloss, 'b-')\n",
    "plt.plot(vloss, 'r-')"
   ]
  },
  {
   "cell_type": "code",
   "execution_count": 8,
   "id": "51d74893",
   "metadata": {},
   "outputs": [
    {
     "data": {
      "text/plain": [
       "tensor([0])"
      ]
     },
     "execution_count": 8,
     "metadata": {},
     "output_type": "execute_result"
    }
   ],
   "source": [
    "model.eval()\n",
    "\n",
    "def predict(text):\n",
    "    inputs = tokenizer(text, padding='max_length', truncation=True, return_tensors=\"pt\")\n",
    "    outputs = model(**inputs)\n",
    "    logits = outputs.logits\n",
    "    preds = torch.argmax(logits, dim=-1)\n",
    "    return preds\n",
    "\n",
    "predict('this is a sentence')\n",
    "predict('will probably have the same output')"
   ]
  },
  {
   "cell_type": "code",
   "execution_count": 9,
   "id": "18e32d5e",
   "metadata": {},
   "outputs": [
    {
     "name": "stdout",
     "output_type": "stream",
     "text": [
      "non-functional fix-bugs\n",
      "non-functional fix-bugs\n",
      "non-functional fix-bugs\n",
      "new-features fix-bugs\n",
      "non-functional fix-bugs\n",
      "new-features fix-bugs\n",
      "documentation fix-bugs\n",
      "non-functional fix-bugs\n",
      "new-features fix-bugs\n",
      "non-functional fix-bugs\n",
      "non-functional fix-bugs\n",
      "new-features fix-bugs\n",
      "documentation fix-bugs\n",
      "documentation fix-bugs\n",
      "documentation fix-bugs\n",
      "new-features fix-bugs\n",
      "non-functional fix-bugs\n",
      "non-functional fix-bugs\n",
      "non-functional fix-bugs\n",
      "new-features fix-bugs\n",
      "new-features fix-bugs\n",
      "non-functional fix-bugs\n",
      "non-functional fix-bugs\n",
      "new-features fix-bugs\n",
      "new-features fix-bugs\n",
      "non-functional fix-bugs\n",
      "fix-bugs fix-bugs\n",
      "new-features fix-bugs\n",
      "non-functional fix-bugs\n",
      "fix-bugs fix-bugs\n",
      "non-functional fix-bugs\n",
      "non-functional fix-bugs\n",
      "documentation fix-bugs\n",
      "non-functional fix-bugs\n",
      "non-functional fix-bugs\n",
      "fix-bugs fix-bugs\n",
      "new-features fix-bugs\n",
      "non-functional fix-bugs\n",
      "new-features fix-bugs\n",
      "new-features fix-bugs\n",
      "new-features fix-bugs\n",
      "fix-bugs fix-bugs\n",
      "non-functional fix-bugs\n",
      "new-features fix-bugs\n",
      "non-functional fix-bugs\n",
      "new-features fix-bugs\n",
      "non-functional fix-bugs\n",
      "fix-bugs fix-bugs\n",
      "new-features fix-bugs\n",
      "new-features fix-bugs\n",
      "new-features fix-bugs\n",
      "non-functional fix-bugs\n",
      "non-functional fix-bugs\n",
      "non-functional fix-bugs\n",
      "new-features fix-bugs\n",
      "non-functional fix-bugs\n",
      "non-functional fix-bugs\n",
      "non-functional fix-bugs\n",
      "fix-bugs fix-bugs\n",
      "non-functional fix-bugs\n",
      "new-features fix-bugs\n",
      "fix-bugs fix-bugs\n",
      "fix-bugs fix-bugs\n",
      "new-features fix-bugs\n",
      "fix-bugs fix-bugs\n",
      "non-functional fix-bugs\n",
      "non-functional fix-bugs\n",
      "new-features fix-bugs\n",
      "new-features fix-bugs\n",
      "documentation fix-bugs\n",
      "non-functional fix-bugs\n",
      "non-functional fix-bugs\n",
      "non-functional fix-bugs\n",
      "new-features fix-bugs\n",
      "new-features fix-bugs\n",
      "new-features fix-bugs\n",
      "new-features fix-bugs\n",
      "non-functional fix-bugs\n",
      "non-functional fix-bugs\n",
      "non-functional fix-bugs\n",
      "new-features fix-bugs\n",
      "non-functional fix-bugs\n",
      "fix-bugs fix-bugs\n",
      "non-functional fix-bugs\n",
      "new-features fix-bugs\n",
      "non-functional fix-bugs\n",
      "fix-bugs fix-bugs\n",
      "new-features fix-bugs\n",
      "non-functional fix-bugs\n",
      "non-functional fix-bugs\n",
      "new-features fix-bugs\n",
      "non-functional fix-bugs\n",
      "non-functional fix-bugs\n",
      "fix-bugs fix-bugs\n",
      "fix-bugs fix-bugs\n",
      "non-functional fix-bugs\n",
      "non-functional fix-bugs\n",
      "non-functional fix-bugs\n",
      "new-features fix-bugs\n",
      "non-functional fix-bugs\n"
     ]
    }
   ],
   "source": [
    "y_true = []\n",
    "y_pred = []\n",
    "\n",
    "for pr in data[:100]:\n",
    "    title = pr['title']\n",
    "    pcat = predict(title)\n",
    "    tcat = pr['category']\n",
    "    print(tcat, categories[pcat])\n",
    "    \n",
    "    y_true.append(tcat)\n",
    "    y_pred.append(pcat)"
   ]
  },
  {
   "cell_type": "code",
   "execution_count": 12,
   "id": "efc568ba",
   "metadata": {},
   "outputs": [
    {
     "name": "stderr",
     "output_type": "stream",
     "text": [
      "/Users/shabo/Documents/Backtick/exjobb/venv/lib/python3.9/site-packages/sklearn/utils/multiclass.py:150: FutureWarning: The input object of type 'Tensor' is an array-like implementing one of the corresponding protocols (`__array__`, `__array_interface__` or `__array_struct__`); but not a sequence (or 0-D). In the future, this object will be coerced as if it was first converted using `np.array(obj)`. To retain the old behaviour, you have to either modify the type 'Tensor', or assign to an empty array created with `np.empty(correct_shape, dtype=object)`.\n",
      "  y = np.asarray(y)\n",
      "/Users/shabo/Documents/Backtick/exjobb/venv/lib/python3.9/site-packages/sklearn/utils/multiclass.py:154: FutureWarning: The input object of type 'Tensor' is an array-like implementing one of the corresponding protocols (`__array__`, `__array_interface__` or `__array_struct__`); but not a sequence (or 0-D). In the future, this object will be coerced as if it was first converted using `np.array(obj)`. To retain the old behaviour, you have to either modify the type 'Tensor', or assign to an empty array created with `np.empty(correct_shape, dtype=object)`.\n",
      "  y = np.array(y, dtype=object)\n",
      "/Users/shabo/Documents/Backtick/exjobb/venv/lib/python3.9/site-packages/sklearn/utils/multiclass.py:286: FutureWarning: The input object of type 'Tensor' is an array-like implementing one of the corresponding protocols (`__array__`, `__array_interface__` or `__array_struct__`); but not a sequence (or 0-D). In the future, this object will be coerced as if it was first converted using `np.array(obj)`. To retain the old behaviour, you have to either modify the type 'Tensor', or assign to an empty array created with `np.empty(correct_shape, dtype=object)`.\n",
      "  y = np.asarray(y)\n",
      "/Users/shabo/Documents/Backtick/exjobb/venv/lib/python3.9/site-packages/sklearn/utils/multiclass.py:290: FutureWarning: The input object of type 'Tensor' is an array-like implementing one of the corresponding protocols (`__array__`, `__array_interface__` or `__array_struct__`); but not a sequence (or 0-D). In the future, this object will be coerced as if it was first converted using `np.array(obj)`. To retain the old behaviour, you have to either modify the type 'Tensor', or assign to an empty array created with `np.empty(correct_shape, dtype=object)`.\n",
      "  y = np.asarray(y, dtype=object)\n"
     ]
    },
    {
     "ename": "ValueError",
     "evalue": "Classification metrics can't handle a mix of multiclass and unknown targets",
     "output_type": "error",
     "traceback": [
      "\u001b[0;31m---------------------------------------------------------------------------\u001b[0m",
      "\u001b[0;31mValueError\u001b[0m                                Traceback (most recent call last)",
      "Input \u001b[0;32mIn [12]\u001b[0m, in \u001b[0;36m<module>\u001b[0;34m\u001b[0m\n\u001b[0;32m----> 1\u001b[0m \u001b[38;5;28;43meval\u001b[39;49m\u001b[43m(\u001b[49m\u001b[43my_true\u001b[49m\u001b[43m,\u001b[49m\u001b[43m \u001b[49m\u001b[43my_pred\u001b[49m\u001b[43m)\u001b[49m\n",
      "File \u001b[0;32m~/Documents/Backtick/exjobb/evaluate.py:5\u001b[0m, in \u001b[0;36meval\u001b[0;34m(y_true, y_pred)\u001b[0m\n\u001b[1;32m      4\u001b[0m \u001b[38;5;28;01mdef\u001b[39;00m \u001b[38;5;21meval\u001b[39m(y_true, y_pred):\n\u001b[0;32m----> 5\u001b[0m     \u001b[38;5;28mprint\u001b[39m(\u001b[43mclassification_report\u001b[49m\u001b[43m(\u001b[49m\u001b[43my_true\u001b[49m\u001b[43m,\u001b[49m\u001b[43m \u001b[49m\u001b[43my_pred\u001b[49m\u001b[43m,\u001b[49m\u001b[43m \u001b[49m\u001b[43mlabels\u001b[49m\u001b[38;5;241;43m=\u001b[39;49m\u001b[43mcategories\u001b[49m\u001b[43m)\u001b[49m)\n\u001b[1;32m      6\u001b[0m     \u001b[38;5;28mprint\u001b[39m(confusion_matrix(y_true, y_pred, labels\u001b[38;5;241m=\u001b[39mcategories))\n",
      "File \u001b[0;32m~/Documents/Backtick/exjobb/venv/lib/python3.9/site-packages/sklearn/metrics/_classification.py:2110\u001b[0m, in \u001b[0;36mclassification_report\u001b[0;34m(y_true, y_pred, labels, target_names, sample_weight, digits, output_dict, zero_division)\u001b[0m\n\u001b[1;32m   1998\u001b[0m \u001b[38;5;28;01mdef\u001b[39;00m \u001b[38;5;21mclassification_report\u001b[39m(\n\u001b[1;32m   1999\u001b[0m     y_true,\n\u001b[1;32m   2000\u001b[0m     y_pred,\n\u001b[0;32m   (...)\u001b[0m\n\u001b[1;32m   2007\u001b[0m     zero_division\u001b[38;5;241m=\u001b[39m\u001b[38;5;124m\"\u001b[39m\u001b[38;5;124mwarn\u001b[39m\u001b[38;5;124m\"\u001b[39m,\n\u001b[1;32m   2008\u001b[0m ):\n\u001b[1;32m   2009\u001b[0m     \u001b[38;5;124;03m\"\"\"Build a text report showing the main classification metrics.\u001b[39;00m\n\u001b[1;32m   2010\u001b[0m \n\u001b[1;32m   2011\u001b[0m \u001b[38;5;124;03m    Read more in the :ref:`User Guide <classification_report>`.\u001b[39;00m\n\u001b[0;32m   (...)\u001b[0m\n\u001b[1;32m   2107\u001b[0m \u001b[38;5;124;03m    <BLANKLINE>\u001b[39;00m\n\u001b[1;32m   2108\u001b[0m \u001b[38;5;124;03m    \"\"\"\u001b[39;00m\n\u001b[0;32m-> 2110\u001b[0m     y_type, y_true, y_pred \u001b[38;5;241m=\u001b[39m \u001b[43m_check_targets\u001b[49m\u001b[43m(\u001b[49m\u001b[43my_true\u001b[49m\u001b[43m,\u001b[49m\u001b[43m \u001b[49m\u001b[43my_pred\u001b[49m\u001b[43m)\u001b[49m\n\u001b[1;32m   2112\u001b[0m     \u001b[38;5;28;01mif\u001b[39;00m labels \u001b[38;5;129;01mis\u001b[39;00m \u001b[38;5;28;01mNone\u001b[39;00m:\n\u001b[1;32m   2113\u001b[0m         labels \u001b[38;5;241m=\u001b[39m unique_labels(y_true, y_pred)\n",
      "File \u001b[0;32m~/Documents/Backtick/exjobb/venv/lib/python3.9/site-packages/sklearn/metrics/_classification.py:93\u001b[0m, in \u001b[0;36m_check_targets\u001b[0;34m(y_true, y_pred)\u001b[0m\n\u001b[1;32m     90\u001b[0m     y_type \u001b[38;5;241m=\u001b[39m {\u001b[38;5;124m\"\u001b[39m\u001b[38;5;124mmulticlass\u001b[39m\u001b[38;5;124m\"\u001b[39m}\n\u001b[1;32m     92\u001b[0m \u001b[38;5;28;01mif\u001b[39;00m \u001b[38;5;28mlen\u001b[39m(y_type) \u001b[38;5;241m>\u001b[39m \u001b[38;5;241m1\u001b[39m:\n\u001b[0;32m---> 93\u001b[0m     \u001b[38;5;28;01mraise\u001b[39;00m \u001b[38;5;167;01mValueError\u001b[39;00m(\n\u001b[1;32m     94\u001b[0m         \u001b[38;5;124m\"\u001b[39m\u001b[38;5;124mClassification metrics can\u001b[39m\u001b[38;5;124m'\u001b[39m\u001b[38;5;124mt handle a mix of \u001b[39m\u001b[38;5;132;01m{0}\u001b[39;00m\u001b[38;5;124m and \u001b[39m\u001b[38;5;132;01m{1}\u001b[39;00m\u001b[38;5;124m targets\u001b[39m\u001b[38;5;124m\"\u001b[39m\u001b[38;5;241m.\u001b[39mformat(\n\u001b[1;32m     95\u001b[0m             type_true, type_pred\n\u001b[1;32m     96\u001b[0m         )\n\u001b[1;32m     97\u001b[0m     )\n\u001b[1;32m     99\u001b[0m \u001b[38;5;66;03m# We can't have more than one value on y_type => The set is no more needed\u001b[39;00m\n\u001b[1;32m    100\u001b[0m y_type \u001b[38;5;241m=\u001b[39m y_type\u001b[38;5;241m.\u001b[39mpop()\n",
      "\u001b[0;31mValueError\u001b[0m: Classification metrics can't handle a mix of multiclass and unknown targets"
     ]
    }
   ],
   "source": [
    "eval(y_true, y_pred)"
   ]
  },
  {
   "cell_type": "code",
   "execution_count": null,
   "id": "403e9f1d",
   "metadata": {},
   "outputs": [],
   "source": []
  }
 ],
 "metadata": {
  "kernelspec": {
   "display_name": "myenv",
   "language": "python",
   "name": "myenv"
  },
  "language_info": {
   "codemirror_mode": {
    "name": "ipython",
    "version": 3
   },
   "file_extension": ".py",
   "mimetype": "text/x-python",
   "name": "python",
   "nbconvert_exporter": "python",
   "pygments_lexer": "ipython3",
   "version": "3.9.10"
  }
 },
 "nbformat": 4,
 "nbformat_minor": 5
}
