{
 "cells": [
  {
   "cell_type": "code",
   "execution_count": 1,
   "metadata": {},
   "outputs": [],
   "source": [
    "import requests\n",
    "from datetime import datetime\n",
    "from tqdm import tqdm\n",
    "import pickle\n",
    "from os import chdir\n",
    "import subprocess\n",
    "from dateutil.parser import parse\n",
    "import os\n",
    "import random\n",
    "\n",
    "try:\n",
    "    chdir('..')\n",
    "    from extract import *\n",
    "finally:\n",
    "    chdir('notebooks')"
   ]
  },
  {
   "cell_type": "code",
   "execution_count": 2,
   "metadata": {},
   "outputs": [],
   "source": [
    "token = \"...\"\n",
    "headers = {'Authorization': 'token ' + token}\n",
    "repo = \"pandas-dev/pandas\""
   ]
  },
  {
   "cell_type": "code",
   "execution_count": 3,
   "metadata": {},
   "outputs": [],
   "source": [
    "def fetch_responses(token, url):\n",
    "    responses = []\n",
    "    while True:\n",
    "        headers = {'Authorization': 'token ' + token}\n",
    "        rsp = requests.get(url, headers=headers)\n",
    "        responses.append(rsp)\n",
    "        if 'next' in rsp.links:\n",
    "            url = rsp.links['next']['url']\n",
    "        else:\n",
    "            break\n",
    "    return responses\n",
    "\n",
    "def rate_limit(response):\n",
    "    print(\"Rate remaining:\", response.headers['X-RateLimit-Remaining'])\n",
    "    print(\"Rate limit reset:\", datetime.fromtimestamp(int(response.headers['X-RateLimit-Reset'])))"
   ]
  },
  {
   "cell_type": "markdown",
   "metadata": {},
   "source": [
    "## Fetch PRs"
   ]
  },
  {
   "cell_type": "code",
   "execution_count": 4,
   "metadata": {},
   "outputs": [
    {
     "data": {
      "text/plain": [
       "'https://api.github.com/search/issues?q=repo:pandas-dev/pandas+is:merged+base:main&per_page=100'"
      ]
     },
     "execution_count": 4,
     "metadata": {},
     "output_type": "execute_result"
    }
   ],
   "source": [
    "url = f\"https://api.github.com/search/issues?q=repo:{repo}+is:merged+base:main&per_page=100\"\n",
    "url"
   ]
  },
  {
   "cell_type": "code",
   "execution_count": 5,
   "metadata": {},
   "outputs": [
    {
     "data": {
      "text/plain": [
       "[<Response [200]>,\n",
       " <Response [200]>,\n",
       " <Response [200]>,\n",
       " <Response [200]>,\n",
       " <Response [200]>,\n",
       " <Response [200]>]"
      ]
     },
     "execution_count": 5,
     "metadata": {},
     "output_type": "execute_result"
    }
   ],
   "source": [
    "responses = fetch_responses(token, url)\n",
    "responses"
   ]
  },
  {
   "cell_type": "code",
   "execution_count": 6,
   "metadata": {},
   "outputs": [
    {
     "name": "stdout",
     "output_type": "stream",
     "text": [
      "Rate remaining: 24\n",
      "Rate limit reset: 2022-03-24 11:12:10\n"
     ]
    }
   ],
   "source": [
    "rate_limit(responses[-1])"
   ]
  },
  {
   "cell_type": "code",
   "execution_count": 7,
   "metadata": {},
   "outputs": [
    {
     "data": {
      "text/plain": [
       "'https://api.github.com/search/issues?q=repo%3Apandas-dev%2Fpandas+is%3Amerged+base%3Amain&per_page=100&page=6'"
      ]
     },
     "execution_count": 7,
     "metadata": {},
     "output_type": "execute_result"
    }
   ],
   "source": [
    "responses[-1].url"
   ]
  },
  {
   "cell_type": "code",
   "execution_count": 8,
   "metadata": {},
   "outputs": [
    {
     "data": {
      "text/plain": [
       "532"
      ]
     },
     "execution_count": 8,
     "metadata": {},
     "output_type": "execute_result"
    }
   ],
   "source": [
    "items = []\n",
    "for response in responses:\n",
    "    items += response.json()['items']\n",
    "len(items)"
   ]
  },
  {
   "cell_type": "code",
   "execution_count": 9,
   "metadata": {},
   "outputs": [
    {
     "data": {
      "text/plain": [
       "[46476, 46472, 46466, 46462, 46461]"
      ]
     },
     "execution_count": 9,
     "metadata": {},
     "output_type": "execute_result"
    }
   ],
   "source": [
    "numbers = [x['number'] for x in items]\n",
    "numbers[:5]"
   ]
  },
  {
   "cell_type": "code",
   "execution_count": 10,
   "metadata": {},
   "outputs": [
    {
     "name": "stderr",
     "output_type": "stream",
     "text": [
      "100%|██████████| 532/532 [04:44<00:00,  1.87it/s]"
     ]
    },
    {
     "name": "stdout",
     "output_type": "stream",
     "text": [
      "{200}\n"
     ]
    },
    {
     "name": "stderr",
     "output_type": "stream",
     "text": [
      "\n"
     ]
    }
   ],
   "source": [
    "pulls_resps = []\n",
    "for number in tqdm(numbers):\n",
    "    url = f\"https://api.github.com/repos/pandas-dev/pandas/pulls/{number}\"\n",
    "    resp = requests.get(url, headers=headers)\n",
    "    pulls_resps.append(resp)\n",
    "print(set([x.status_code for x in pulls_resps]))"
   ]
  },
  {
   "cell_type": "code",
   "execution_count": 11,
   "metadata": {},
   "outputs": [
    {
     "name": "stdout",
     "output_type": "stream",
     "text": [
      "Rate remaining: 4468\n",
      "Rate limit reset: 2022-03-24 12:11:22\n"
     ]
    }
   ],
   "source": [
    "rate_limit(pulls_resps[-1])"
   ]
  },
  {
   "cell_type": "code",
   "execution_count": 12,
   "metadata": {},
   "outputs": [
    {
     "name": "stdout",
     "output_type": "stream",
     "text": [
      "6033ed4b3383d874ee4a8a461724c0b8c2ca968d\n",
      "171cdad93349a10d88cd9ac002a5d0ad3c751ed3\n",
      "d2478f55d115b86f08e017043132709198e194fd\n",
      "abfb4b7a9b6ac188045ec85246919dc9b816d74f\n",
      "b14d62e35e13b313c8d4436667437bb0a6204bc0\n",
      "f469af7b381075a5a0e974462169ce8800258f0d\n",
      "55d1acac77c1f85031c637c7cddd3bad8d7c8bf8\n",
      "2d80d92ce35597992beb68e7bdc24c04db4061f7\n",
      "a875c23f0def5f728e913a38e063737112ea21f1\n",
      "ac532461a6840b4a1f1da8b565322818432690f7\n"
     ]
    }
   ],
   "source": [
    "for pr in pulls_resps[20:30]:\n",
    "    print(pr.json()['merge_commit_sha'])"
   ]
  },
  {
   "cell_type": "code",
   "execution_count": 13,
   "metadata": {},
   "outputs": [
    {
     "data": {
      "text/plain": [
       "dict_keys(['url', 'id', 'node_id', 'html_url', 'diff_url', 'patch_url', 'issue_url', 'number', 'state', 'locked', 'title', 'user', 'body', 'created_at', 'updated_at', 'closed_at', 'merged_at', 'merge_commit_sha', 'assignee', 'assignees', 'requested_reviewers', 'requested_teams', 'labels', 'milestone', 'draft', 'commits_url', 'review_comments_url', 'review_comment_url', 'comments_url', 'statuses_url', 'head', 'base', '_links', 'author_association', 'auto_merge', 'active_lock_reason', 'merged', 'mergeable', 'rebaseable', 'mergeable_state', 'merged_by', 'comments', 'review_comments', 'maintainer_can_modify', 'commits', 'additions', 'deletions', 'changed_files'])"
      ]
     },
     "execution_count": 13,
     "metadata": {},
     "output_type": "execute_result"
    }
   ],
   "source": [
    "pulls_resps[0].json().keys()"
   ]
  },
  {
   "cell_type": "code",
   "execution_count": 14,
   "metadata": {},
   "outputs": [
    {
     "data": {
      "text/plain": [
       "{6840253, 7530006, 7593147, 7667127}"
      ]
     },
     "execution_count": 14,
     "metadata": {},
     "output_type": "execute_result"
    }
   ],
   "source": [
    "milestones = set()\n",
    "for pr in pulls_resps:\n",
    "    pr = pr.json()\n",
    "    if pr['milestone']:\n",
    "        milestones.add(pr['milestone']['id'])\n",
    "milestones"
   ]
  },
  {
   "cell_type": "code",
   "execution_count": 15,
   "metadata": {},
   "outputs": [
    {
     "data": {
      "text/plain": [
       "532"
      ]
     },
     "execution_count": 15,
     "metadata": {},
     "output_type": "execute_result"
    }
   ],
   "source": [
    "prs = {}\n",
    "for pr in pulls_resps:\n",
    "    pr = pr.json()\n",
    "    sha = pr['merge_commit_sha']\n",
    "    number = pr['number']\n",
    "    prs[sha] = number\n",
    "len(prs)"
   ]
  },
  {
   "cell_type": "markdown",
   "metadata": {},
   "source": [
    "## Fetch releases"
   ]
  },
  {
   "cell_type": "code",
   "execution_count": 16,
   "metadata": {},
   "outputs": [
    {
     "name": "stdout",
     "output_type": "stream",
     "text": [
      "{200}\n"
     ]
    }
   ],
   "source": [
    "url = \"https://api.github.com/repos/pandas-dev/pandas/releases?per_page=100\"\n",
    "release_resps = fetch_responses(token, url)\n",
    "print(set([x.status_code for x in release_resps]))"
   ]
  },
  {
   "cell_type": "code",
   "execution_count": 17,
   "metadata": {},
   "outputs": [
    {
     "name": "stdout",
     "output_type": "stream",
     "text": [
      "17\n"
     ]
    },
    {
     "data": {
      "text/plain": [
       "'v0.14.0'"
      ]
     },
     "execution_count": 17,
     "metadata": {},
     "output_type": "execute_result"
    }
   ],
   "source": [
    "release_tags = set()\n",
    "for r in release_resps[0].json():\n",
    "    if r['target_commitish'] == 'main' and r['draft'] == False and r['prerelease'] == False:\n",
    "        release_tags.add(r['tag_name'])\n",
    "print(len(release_tags))\n",
    "list(release_tags)[0]"
   ]
  },
  {
   "cell_type": "code",
   "execution_count": 18,
   "metadata": {},
   "outputs": [
    {
     "name": "stdout",
     "output_type": "stream",
     "text": [
      "Rate remaining: 4467\n",
      "Rate limit reset: 2022-03-24 12:11:22\n"
     ]
    }
   ],
   "source": [
    "rate_limit(release_resps[-1])"
   ]
  },
  {
   "cell_type": "code",
   "execution_count": 19,
   "metadata": {},
   "outputs": [
    {
     "data": {
      "text/plain": [
       "dict_keys(['url', 'assets_url', 'upload_url', 'html_url', 'id', 'author', 'node_id', 'tag_name', 'target_commitish', 'name', 'draft', 'prerelease', 'created_at', 'published_at', 'assets', 'tarball_url', 'zipball_url', 'body'])"
      ]
     },
     "execution_count": 19,
     "metadata": {},
     "output_type": "execute_result"
    }
   ],
   "source": [
    "release_resps[0].json()[0].keys()"
   ]
  },
  {
   "cell_type": "code",
   "execution_count": 20,
   "metadata": {},
   "outputs": [
    {
     "data": {
      "text/plain": [
       "'https://github.com/pandas-dev/pandas/releases/tag/v1.4.1'"
      ]
     },
     "execution_count": 20,
     "metadata": {},
     "output_type": "execute_result"
    }
   ],
   "source": [
    "release_resps[0].json()[0]['html_url']"
   ]
  },
  {
   "cell_type": "markdown",
   "metadata": {},
   "source": [
    "## Kontrollera att alla PR, tags finns med lokalt\n",
    "\n",
    "- Plocka ut en lista med alla sha lokalt\n",
    "- Map pr->sha för att kolla om alla pr finns i historiken\n",
    "- Kan även kolla för release tags"
   ]
  },
  {
   "cell_type": "code",
   "execution_count": 22,
   "metadata": {},
   "outputs": [
    {
     "name": "stdout",
     "output_type": "stream",
     "text": [
      "Cloning into 'pandas'...\n",
      "remote: Enumerating objects: 307148, done.\u001b[K\n",
      "remote: Total 307148 (delta 0), reused 0 (delta 0), pack-reused 307148\u001b[K\n",
      "Receiving objects: 100% (307148/307148), 261.26 MiB | 5.07 MiB/s, done.\n",
      "Resolving deltas: 100% (257011/257011), done.\n"
     ]
    }
   ],
   "source": [
    "!git clone https://github.com/pandas-dev/pandas"
   ]
  },
  {
   "cell_type": "code",
   "execution_count": 23,
   "metadata": {},
   "outputs": [
    {
     "name": "stdout",
     "output_type": "stream",
     "text": [
      "29228\n",
      "['9d0080576446de475d34b0dbb58389b15cd4f529', 'ec1a0a2a2571dc2c1c26612b374d4a66b22f0938', '1eeadf4e401647faa20911f531bc05c1872262ea']\n",
      "\n",
      "{'da0f7ae362bb0ee747c3c5c141327d1d8ba161bc': 'v0.14.0', 'ca9eefc3c4733f368c054e33537ff18384114b43': 'v0.16.1', '27b783986230a3d044d045604b72a51acd13b7be': 'v0.19.1', 'e346c663cf76186c22f4d3b703461b1b60db280f': 'v0.20.1', '2814061730893bc8122caa4e01197c699da352e6': 'v0.20.2', '017adeaa4b70d63fe6c788db457dc9d31562f4d6': 'v0.15.0', '06d230151e6f18fdb8139d09abf539867a8cd481': 'v1.4.1', 'bb1f651536508cdfef8550f93ace7849b00046ee': 'v1.4.0', '18ea1d856d45c87fe18a41d1a267ede46e10880e': 'v0.15.2', 'a31c96d34d00dc757908b564dc93991e867d83e2': 'v0.20.0', 'b97dbd01e49f54ae6fa8df382d6f6e4c771d2bc0': 'v0.19.0', 'c91bdbadfdbf9f60879ead8dd86bd1e72ca18ccf': 'v0.16.0', 'd8ab3415373ea42713c096a97c3d9ed5c9cb82ee': 'v0.15.1', '06832891870119984c6a5404bc7f7a471f43b99c': 'v0.16.2', 'fe48704835323c140846d1bde5e1387aa0cac3d4': 'v0.17.0', '6c30cbecf8e5ae610f2a37ba821116bd9f77044d': 'v0.17.1', '825876ca7ee8ac7bea463925399c083d5f190b3e': 'v0.19.2'}\n"
     ]
    }
   ],
   "source": [
    "chdir('pandas')\n",
    "try:\n",
    "    subprocess.run(\"git checkout main\", shell=True)\n",
    "    \n",
    "    lines = subprocess.getoutput(\"git log --format=format:%H\").split('\\n')\n",
    "    commits = list(reversed(lines))\n",
    "    print(len(commits))\n",
    "    print(commits[:3])\n",
    "    \n",
    "    print()\n",
    "    all_tags = {}\n",
    "    for tag in release_tags:\n",
    "        # OBS: Detta inkluderar även tags från andra branches...\n",
    "        lines = subprocess.getoutput(f\"git rev-list -n 1 {tag}\").split('\\n')\n",
    "        sha = lines[0]\n",
    "        all_tags[sha] = tag\n",
    "    print(all_tags)\n",
    "finally:\n",
    "    chdir('..')"
   ]
  },
  {
   "cell_type": "code",
   "execution_count": 24,
   "metadata": {},
   "outputs": [
    {
     "data": {
      "text/plain": [
       "29228"
      ]
     },
     "execution_count": 24,
     "metadata": {},
     "output_type": "execute_result"
    }
   ],
   "source": [
    "len(commits)"
   ]
  },
  {
   "cell_type": "code",
   "execution_count": 25,
   "metadata": {},
   "outputs": [],
   "source": [
    "for key in prs.keys():\n",
    "    assert key in commits"
   ]
  },
  {
   "cell_type": "code",
   "execution_count": 26,
   "metadata": {
    "scrolled": true
   },
   "outputs": [
    {
     "name": "stdout",
     "output_type": "stream",
     "text": [
      "12 release tags on main\n"
     ]
    }
   ],
   "source": [
    "# Endast tag från main\n",
    "tags = {}\n",
    "for sha, tag in all_tags.items():\n",
    "    if sha in commits:\n",
    "        tags[sha] = tag\n",
    "\n",
    "print(len(tags), \"release tags on main\")\n",
    "for key in tags.keys():\n",
    "    assert key in commits"
   ]
  },
  {
   "cell_type": "markdown",
   "metadata": {},
   "source": [
    "## Sektionera PR mellan releases\n",
    "\n",
    "Gå igenom alla commits i 2 vändor O(2*n) = O(n)\n",
    "1. Extrahera tags -> sections {start: tag, prs: [], end: tag}\n",
    "2. Öka section för varje tag och lägg till pr på rätt plats\n",
    "\n",
    "Ordningen baseras på commits i main."
   ]
  },
  {
   "cell_type": "code",
   "execution_count": 33,
   "metadata": {},
   "outputs": [
    {
     "name": "stdout",
     "output_type": "stream",
     "text": [
      "{'start': 'v0.14.0', 'prs': [], 'end': 'v0.15.0'}\n",
      "{'start': 'v0.15.0', 'prs': [], 'end': 'v0.15.1'}\n",
      "{'start': 'v0.15.1', 'prs': [], 'end': 'v0.15.2'}\n",
      "{'start': 'v0.15.2', 'prs': [], 'end': 'v0.16.0'}\n",
      "{'start': 'v0.16.0', 'prs': [], 'end': 'v0.16.1'}\n",
      "{'start': 'v0.16.1', 'prs': [], 'end': 'v0.16.2'}\n",
      "{'start': 'v0.16.2', 'prs': [], 'end': 'v0.17.0'}\n",
      "{'start': 'v0.17.0', 'prs': [], 'end': 'v0.17.1'}\n",
      "{'start': 'v0.17.1', 'prs': [], 'end': 'v0.19.0'}\n",
      "{'start': 'v0.19.0', 'prs': [], 'end': 'v0.20.0'}\n",
      "{'start': 'v0.20.0', 'prs': [], 'end': 'v0.20.1'}\n"
     ]
    }
   ],
   "source": [
    "tag_commits = [c for c in commits if c in tags]\n",
    "\n",
    "sections = []\n",
    "for i in range(len(tag_commits)-1):\n",
    "    sections.append({\n",
    "        'start': tags[tag_commits[i]],\n",
    "        'prs': [],\n",
    "        'end': tags[tag_commits[i+1]],\n",
    "    })\n",
    "\n",
    "for c in sections:\n",
    "    print(c)"
   ]
  },
  {
   "cell_type": "code",
   "execution_count": 34,
   "metadata": {},
   "outputs": [
    {
     "name": "stdout",
     "output_type": "stream",
     "text": [
      "WARNING - alla releases kommer innan första PR\n"
     ]
    }
   ],
   "source": [
    "pr_commits = [c for c in commits if c in prs]\n",
    "if commits.index(pr_commits[0]) > commits.index(tag_commits[-1]):\n",
    "    print(\"WARNING - alla releases kommer innan första PR\")"
   ]
  },
  {
   "cell_type": "markdown",
   "metadata": {},
   "source": [
    "Temporär lösning, hårdkoda några random sections"
   ]
  },
  {
   "cell_type": "code",
   "execution_count": 35,
   "metadata": {},
   "outputs": [
    {
     "name": "stdout",
     "output_type": "stream",
     "text": [
      "532\n"
     ]
    },
    {
     "data": {
      "text/plain": [
       "{'start': 'e53bda9e64c067f5612e069830acbf314ece7242',\n",
       " 'prs': ['83ea173d150e715790ce7a1b2d329b3eeb4c3ea0',\n",
       "  '96f2f2aff10666aa2b8118174a3f39a2e88a0bf4',\n",
       "  'e84b9ee40075d8d9ad2eb217a5d9671e7b9073dd',\n",
       "  'e255e56fa086e06127268e409adb82f440326273',\n",
       "  'f2a0125663bbcf8701347c00329c311e7391608e',\n",
       "  '51675d0839480ba7ada44cc93ba8a8df94d33de0',\n",
       "  '5acb14b786b3e2f5cdcb54e158323608d19c0422',\n",
       "  '5ceeb43a908b9e885c7fe3cc91e4b446255156a9',\n",
       "  '94f976fd43c6ce00adb6d4b4d3e7c0bef8d78788',\n",
       "  'd2ef7e9a3f46489a1fa57c957d8c3ce664622723',\n",
       "  'db5c087a7e126c9e87f75968067ba756b3747333',\n",
       "  '37c43da9ec4ced1108a4ed5320a1d3175f88eaec',\n",
       "  'c80f656aad987881dac5cbccfc957dc6c3cef866',\n",
       "  '39b7a6d5614dc2a3e0ce9d799fa1dc98c1e3cfd5',\n",
       "  'e3ff3d95d7f87e6c0b24c5ad2983e84778c95741',\n",
       "  'a659f1df7aa13282122fed472756e3b38b34ce55',\n",
       "  'be20b2d903c21b961f45a22d51137944732cfcbb',\n",
       "  '5357f795757ac026c506134b4500a14068196f3f',\n",
       "  'ae5b2b7bab84a9c276ca14d0a46060735a0bd601',\n",
       "  '09d693f445186a3e67ba2f0652e61ca7650ed4f4',\n",
       "  '43245c93bf286a460edda9f80a2f154ff7ee6924',\n",
       "  '7abddcd7cc23e2a82f3a4661a98ac3bad0153fa1',\n",
       "  'ceedfa92599ab376e7782181e6c01cef09534b56',\n",
       "  '793ac8b99f6f853128255a5a7c7c1bb64c47a726',\n",
       "  'fafb129c997bd82b1baa88560baf0a782790a4b6',\n",
       "  '1d57c89eac22cb01e7a2c063cb9e564a1d667c62',\n",
       "  '3743dbcb60a1f0a5a1a7e3d84ac27c10c6090a64',\n",
       "  '6cc5584bba59ef8f06d4dc901dc39ddd08d1519f',\n",
       "  'ab42f85f192ab054a18f94825ced1bb4c1ab7d3f',\n",
       "  'adec4febedbd7c987639ca57563ad2e190405e92',\n",
       "  '07732d7b7df8bbc331447a3d0be02e6f9b01be7b',\n",
       "  '23f12a13fee57d59dc2b493c360db1ce6e9f16f3',\n",
       "  'e6a20bdef21a8420672f9d564b82e16faebb64ba',\n",
       "  '4e034ec0006b6c05160ce67ea1420ce28f295c91'],\n",
       " 'end': 'd19a31e88a60ed36c0431c28dd58f32caf103028'}"
      ]
     },
     "execution_count": 35,
     "metadata": {},
     "output_type": "execute_result"
    }
   ],
   "source": [
    "print(len(prs))\n",
    "release_indices = [5, 40, 100, 435]\n",
    "\n",
    "sections = []\n",
    "for i in range(len(release_indices)-1):\n",
    "    start = release_indices[i]\n",
    "    end = release_indices[i+1]\n",
    "    sections.append({\n",
    "        'start': pr_commits[start],\n",
    "        'prs': pr_commits[start+1:end],\n",
    "        'end': pr_commits[end],\n",
    "    })\n",
    "\n",
    "sections[0]"
   ]
  },
  {
   "cell_type": "markdown",
   "metadata": {},
   "source": [
    "**TODO: Changes - modified only (ignore adds, dels)**"
   ]
  },
  {
   "cell_type": "code",
   "execution_count": 36,
   "metadata": {},
   "outputs": [
    {
     "name": "stdout",
     "output_type": "stream",
     "text": [
      "6 ['doc/source/reference/arrays.rst', 'doc/source/user_guide/gotchas.rst', 'doc/source/user_guide/scale.rst']\n",
      "35 ['doc/source/development/code_style.rst', 'doc/source/development/contributing_codebase.rst', 'doc/source/development/contributing_environment.rst']\n",
      "34 ['doc/source/development/code_style.rst', 'doc/source/development/contributing_codebase.rst', 'doc/source/development/contributing_documentation.rst']\n"
     ]
    }
   ],
   "source": [
    "chdir('pandas')\n",
    "try:\n",
    "    subprocess.run(\"git checkout main\", shell=True)\n",
    "    \n",
    "    for section in sections:\n",
    "        # Extract actual changes from history\n",
    "        start = section['start']\n",
    "        end = section['end']\n",
    "        lines = subprocess.getoutput(f\"git diff {start} {end} --name-only\").split('\\n')\n",
    "        changes = [l for l in lines if l.startswith('doc/') and (l.endswith('.md') or l.endswith('.rst'))]\n",
    "        section['changes'] = changes\n",
    "        print(len(changes), changes[:3])\n",
    "        \n",
    "finally:\n",
    "    chdir('..')"
   ]
  },
  {
   "cell_type": "code",
   "execution_count": 37,
   "metadata": {},
   "outputs": [
    {
     "data": {
      "text/plain": [
       "\"\\n# Jag tror detta funkar,\\n# men svårt att veta eftersom alla PR kom efter sista taggen i pandas/main\\n# behöver ett nytt repo / branch - alternativt testa med milestones istället...\\n\\nsec = -1\\nfor commit in commits:\\n    if sec >= 0 and commit in prs and sec < len(sections):\\n        print('add')\\n        break\\n        sections[sec]['prs'].append(commit) # todo: prs[commit]\\n    if commit in tags:\\n        # Inkludera sista PR om den skulle vara en tag\\n        # OBS: den första ska inte inkuderas - annars bli diffen fel\\n        sec += 1\\n        \\nfor section in sections:\\n    print(len(section['prs']))\\n\""
      ]
     },
     "execution_count": 37,
     "metadata": {},
     "output_type": "execute_result"
    }
   ],
   "source": [
    "\"\"\"\n",
    "# Jag tror detta funkar,\n",
    "# men svårt att veta eftersom alla PR kom efter sista taggen i pandas/main\n",
    "# behöver ett nytt repo / branch - alternativt testa med milestones istället...\n",
    "\n",
    "sec = -1\n",
    "for commit in commits:\n",
    "    if sec >= 0 and commit in prs and sec < len(sections):\n",
    "        print('add')\n",
    "        break\n",
    "        sections[sec]['prs'].append(commit) # todo: prs[commit]\n",
    "    if commit in tags:\n",
    "        # Inkludera sista PR om den skulle vara en tag\n",
    "        # OBS: den första ska inte inkuderas - annars bli diffen fel\n",
    "        sec += 1\n",
    "        \n",
    "for section in sections:\n",
    "    print(len(section['prs']))\n",
    "\"\"\""
   ]
  },
  {
   "cell_type": "code",
   "execution_count": 38,
   "metadata": {},
   "outputs": [
    {
     "data": {
      "text/plain": [
       "{'start': 'e53bda9e64c067f5612e069830acbf314ece7242',\n",
       " 'prs': ['83ea173d150e715790ce7a1b2d329b3eeb4c3ea0',\n",
       "  '96f2f2aff10666aa2b8118174a3f39a2e88a0bf4',\n",
       "  'e84b9ee40075d8d9ad2eb217a5d9671e7b9073dd',\n",
       "  'e255e56fa086e06127268e409adb82f440326273',\n",
       "  'f2a0125663bbcf8701347c00329c311e7391608e',\n",
       "  '51675d0839480ba7ada44cc93ba8a8df94d33de0',\n",
       "  '5acb14b786b3e2f5cdcb54e158323608d19c0422',\n",
       "  '5ceeb43a908b9e885c7fe3cc91e4b446255156a9',\n",
       "  '94f976fd43c6ce00adb6d4b4d3e7c0bef8d78788',\n",
       "  'd2ef7e9a3f46489a1fa57c957d8c3ce664622723',\n",
       "  'db5c087a7e126c9e87f75968067ba756b3747333',\n",
       "  '37c43da9ec4ced1108a4ed5320a1d3175f88eaec',\n",
       "  'c80f656aad987881dac5cbccfc957dc6c3cef866',\n",
       "  '39b7a6d5614dc2a3e0ce9d799fa1dc98c1e3cfd5',\n",
       "  'e3ff3d95d7f87e6c0b24c5ad2983e84778c95741',\n",
       "  'a659f1df7aa13282122fed472756e3b38b34ce55',\n",
       "  'be20b2d903c21b961f45a22d51137944732cfcbb',\n",
       "  '5357f795757ac026c506134b4500a14068196f3f',\n",
       "  'ae5b2b7bab84a9c276ca14d0a46060735a0bd601',\n",
       "  '09d693f445186a3e67ba2f0652e61ca7650ed4f4',\n",
       "  '43245c93bf286a460edda9f80a2f154ff7ee6924',\n",
       "  '7abddcd7cc23e2a82f3a4661a98ac3bad0153fa1',\n",
       "  'ceedfa92599ab376e7782181e6c01cef09534b56',\n",
       "  '793ac8b99f6f853128255a5a7c7c1bb64c47a726',\n",
       "  'fafb129c997bd82b1baa88560baf0a782790a4b6',\n",
       "  '1d57c89eac22cb01e7a2c063cb9e564a1d667c62',\n",
       "  '3743dbcb60a1f0a5a1a7e3d84ac27c10c6090a64',\n",
       "  '6cc5584bba59ef8f06d4dc901dc39ddd08d1519f',\n",
       "  'ab42f85f192ab054a18f94825ced1bb4c1ab7d3f',\n",
       "  'adec4febedbd7c987639ca57563ad2e190405e92',\n",
       "  '07732d7b7df8bbc331447a3d0be02e6f9b01be7b',\n",
       "  '23f12a13fee57d59dc2b493c360db1ce6e9f16f3',\n",
       "  'e6a20bdef21a8420672f9d564b82e16faebb64ba',\n",
       "  '4e034ec0006b6c05160ce67ea1420ce28f295c91'],\n",
       " 'end': 'd19a31e88a60ed36c0431c28dd58f32caf103028',\n",
       " 'changes': ['doc/source/reference/arrays.rst',\n",
       "  'doc/source/user_guide/gotchas.rst',\n",
       "  'doc/source/user_guide/scale.rst',\n",
       "  'doc/source/user_guide/sparse.rst',\n",
       "  'doc/source/whatsnew/v1.4.0.rst',\n",
       "  'doc/source/whatsnew/v1.5.0.rst']}"
      ]
     },
     "execution_count": 38,
     "metadata": {},
     "output_type": "execute_result"
    }
   ],
   "source": [
    "sections[0]"
   ]
  },
  {
   "cell_type": "markdown",
   "metadata": {},
   "source": [
    "Hämta docs filer, så som de såg ut i början av varje PR"
   ]
  },
  {
   "cell_type": "code",
   "execution_count": 40,
   "metadata": {},
   "outputs": [
    {
     "name": "stdout",
     "output_type": "stream",
     "text": [
      "427\n"
     ]
    }
   ],
   "source": [
    "pr_shas = []\n",
    "for section in sections:\n",
    "    pr_shas += section['prs']\n",
    "print(len(pr_shas))\n"
   ]
  },
  {
   "cell_type": "code",
   "execution_count": 41,
   "metadata": {},
   "outputs": [
    {
     "name": "stderr",
     "output_type": "stream",
     "text": [
      "100%|██████████| 427/427 [00:36<00:00, 11.73it/s]\n"
     ]
    }
   ],
   "source": [
    "extracts = {}\n",
    "for sha in tqdm(pr_shas):\n",
    "    # Modellen behöver veta hur docs var innan PR, därför ^1\n",
    "    # antag att varje PR består av 1 commit i master\n",
    "    # det går att lösa annars också, men det blir mer komplicerat och involverar GitHub's API\n",
    "    subprocess.run(f'git checkout {sha}^1', shell=True, cwd=\"pandas\")\n",
    "    extracts[sha] = {\n",
    "        'md': Extractor('md').extract('pandas/doc'),\n",
    "        'rst': Extractor('rst').extract('pandas/doc')\n",
    "    }"
   ]
  },
  {
   "cell_type": "code",
   "execution_count": 42,
   "metadata": {},
   "outputs": [
    {
     "data": {
      "text/plain": [
       "427"
      ]
     },
     "execution_count": 42,
     "metadata": {},
     "output_type": "execute_result"
    }
   ],
   "source": [
    "docs = {}\n",
    "for sha, e in extracts.items():\n",
    "    docs[sha] = e['md'] + e['rst']\n",
    "len(docs)"
   ]
  },
  {
   "cell_type": "markdown",
   "metadata": {},
   "source": [
    "- **TODO: Extrahera filer, filnamn i uppdaterat format (ladda från sido-repo)**\n",
    "- **TODO: Metadata för varje PR**\n",
    "- **TODO: Evaluation loop**"
   ]
  },
  {
   "cell_type": "markdown",
   "metadata": {},
   "source": [
    "## Evaluation-loop"
   ]
  },
  {
   "cell_type": "code",
   "execution_count": 47,
   "metadata": {},
   "outputs": [
    {
     "name": "stdout",
     "output_type": "stream",
     "text": [
      "f1: 0.6725663716814159\n"
     ]
    }
   ],
   "source": [
    "tp = 0\n",
    "fp = 0\n",
    "fn = 0\n",
    "\n",
    "for section in sections:\n",
    "    actual_changes = set(section['changes'])\n",
    "    \n",
    "    # TODO: Predict based on PR, docs\n",
    "    model_changes = set(list(actual_changes)[:random.randrange(len(actual_changes)-1)])\n",
    "    \n",
    "    \n",
    "    tp += len(actual_changes.intersection(model_changes))\n",
    "    fp += len(model_changes.difference(actual_changes))\n",
    "    fn += len(actual_changes.difference(model_changes))\n",
    "    \n",
    "# TODO - edge cases zero division\n",
    "precision = tp / (tp + fp)\n",
    "recall = tp / (tp + fn)\n",
    "f1 = 2 * (precision * recall) / (precision + recall)\n",
    "\n",
    "print(\"f1:\", f1)"
   ]
  },
  {
   "cell_type": "code",
   "execution_count": null,
   "metadata": {},
   "outputs": [],
   "source": []
  },
  {
   "cell_type": "code",
   "execution_count": null,
   "metadata": {},
   "outputs": [],
   "source": []
  },
  {
   "cell_type": "code",
   "execution_count": null,
   "metadata": {},
   "outputs": [],
   "source": []
  },
  {
   "cell_type": "code",
   "execution_count": null,
   "metadata": {},
   "outputs": [],
   "source": []
  },
  {
   "cell_type": "code",
   "execution_count": null,
   "metadata": {},
   "outputs": [],
   "source": []
  },
  {
   "cell_type": "code",
   "execution_count": null,
   "metadata": {},
   "outputs": [],
   "source": []
  },
  {
   "cell_type": "code",
   "execution_count": null,
   "metadata": {},
   "outputs": [],
   "source": []
  },
  {
   "cell_type": "code",
   "execution_count": null,
   "metadata": {},
   "outputs": [],
   "source": []
  }
 ],
 "metadata": {
  "kernelspec": {
   "display_name": "Python 3",
   "language": "python",
   "name": "python3"
  },
  "language_info": {
   "codemirror_mode": {
    "name": "ipython",
    "version": 3
   },
   "file_extension": ".py",
   "mimetype": "text/x-python",
   "name": "python",
   "nbconvert_exporter": "python",
   "pygments_lexer": "ipython3",
   "version": "3.8.3"
  }
 },
 "nbformat": 4,
 "nbformat_minor": 4
}
