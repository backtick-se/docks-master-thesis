{
 "cells": [
  {
   "cell_type": "markdown",
   "metadata": {},
   "source": [
    "# Experiment - Summeringar utan body\n",
    "\n",
    "Provar att ta bort metodens body för att se om CodeT5 kan generera bättre summeringar.\n",
    "Pierre föreslog att vi kunde testa detta, efter vårt möte den 3 mars.\n",
    "Om detta fungerar kan vi prova skicka vidare output till SBERT och utforska den lösningen."
   ]
  },
  {
   "cell_type": "code",
   "execution_count": 43,
   "metadata": {},
   "outputs": [
    {
     "name": "stdout",
     "output_type": "stream",
     "text": [
      "Requirement already satisfied: transformers in /opt/anaconda3/lib/python3.8/site-packages (4.16.2)\n",
      "Requirement already satisfied: huggingface-hub<1.0,>=0.1.0 in /opt/anaconda3/lib/python3.8/site-packages (from transformers) (0.4.0)\n",
      "Requirement already satisfied: tqdm>=4.27 in /opt/anaconda3/lib/python3.8/site-packages (from transformers) (4.47.0)\n",
      "Requirement already satisfied: requests in /opt/anaconda3/lib/python3.8/site-packages (from transformers) (2.24.0)\n",
      "Requirement already satisfied: numpy>=1.17 in /opt/anaconda3/lib/python3.8/site-packages (from transformers) (1.18.5)\n",
      "Requirement already satisfied: pyyaml>=5.1 in /opt/anaconda3/lib/python3.8/site-packages (from transformers) (5.3.1)\n",
      "Requirement already satisfied: filelock in /opt/anaconda3/lib/python3.8/site-packages (from transformers) (3.0.12)\n",
      "Requirement already satisfied: regex!=2019.12.17 in /opt/anaconda3/lib/python3.8/site-packages (from transformers) (2021.8.27)\n",
      "Requirement already satisfied: packaging>=20.0 in /opt/anaconda3/lib/python3.8/site-packages (from transformers) (21.3)\n",
      "Requirement already satisfied: sacremoses in /opt/anaconda3/lib/python3.8/site-packages (from transformers) (0.0.47)\n",
      "Requirement already satisfied: tokenizers!=0.11.3,>=0.10.1 in /opt/anaconda3/lib/python3.8/site-packages (from transformers) (0.11.5)\n",
      "Requirement already satisfied: typing-extensions>=3.7.4.3 in /opt/anaconda3/lib/python3.8/site-packages (from huggingface-hub<1.0,>=0.1.0->transformers) (4.1.1)\n",
      "Requirement already satisfied: certifi>=2017.4.17 in /opt/anaconda3/lib/python3.8/site-packages (from requests->transformers) (2020.6.20)\n",
      "Requirement already satisfied: urllib3!=1.25.0,!=1.25.1,<1.26,>=1.21.1 in /opt/anaconda3/lib/python3.8/site-packages (from requests->transformers) (1.25.9)\n",
      "Requirement already satisfied: idna<3,>=2.5 in /opt/anaconda3/lib/python3.8/site-packages (from requests->transformers) (2.10)\n",
      "Requirement already satisfied: chardet<4,>=3.0.2 in /opt/anaconda3/lib/python3.8/site-packages (from requests->transformers) (3.0.4)\n",
      "Requirement already satisfied: pyparsing!=3.0.5,>=2.0.2 in /opt/anaconda3/lib/python3.8/site-packages (from packaging>=20.0->transformers) (2.4.7)\n",
      "Requirement already satisfied: joblib in /opt/anaconda3/lib/python3.8/site-packages (from sacremoses->transformers) (0.16.0)\n",
      "Requirement already satisfied: six in /opt/anaconda3/lib/python3.8/site-packages (from sacremoses->transformers) (1.15.0)\n",
      "Requirement already satisfied: click in /opt/anaconda3/lib/python3.8/site-packages (from sacremoses->transformers) (7.1.2)\n",
      "Requirement already satisfied: sentence-transformers in /opt/anaconda3/lib/python3.8/site-packages (2.2.0)\n",
      "Requirement already satisfied: transformers<5.0.0,>=4.6.0 in /opt/anaconda3/lib/python3.8/site-packages (from sentence-transformers) (4.16.2)\n",
      "Requirement already satisfied: scikit-learn in /opt/anaconda3/lib/python3.8/site-packages (from sentence-transformers) (0.23.1)\n",
      "Requirement already satisfied: torch>=1.6.0 in /opt/anaconda3/lib/python3.8/site-packages (from sentence-transformers) (1.10.2)\n",
      "Requirement already satisfied: sentencepiece in /opt/anaconda3/lib/python3.8/site-packages (from sentence-transformers) (0.1.96)\n",
      "Requirement already satisfied: torchvision in /opt/anaconda3/lib/python3.8/site-packages (from sentence-transformers) (0.11.3)\n",
      "Requirement already satisfied: numpy in /opt/anaconda3/lib/python3.8/site-packages (from sentence-transformers) (1.18.5)\n",
      "Requirement already satisfied: scipy in /opt/anaconda3/lib/python3.8/site-packages (from sentence-transformers) (1.5.0)\n",
      "Requirement already satisfied: tqdm in /opt/anaconda3/lib/python3.8/site-packages (from sentence-transformers) (4.47.0)\n",
      "Requirement already satisfied: nltk in /opt/anaconda3/lib/python3.8/site-packages (from sentence-transformers) (3.5)\n",
      "Requirement already satisfied: huggingface-hub in /opt/anaconda3/lib/python3.8/site-packages (from sentence-transformers) (0.4.0)\n",
      "Requirement already satisfied: sacremoses in /opt/anaconda3/lib/python3.8/site-packages (from transformers<5.0.0,>=4.6.0->sentence-transformers) (0.0.47)\n",
      "Requirement already satisfied: requests in /opt/anaconda3/lib/python3.8/site-packages (from transformers<5.0.0,>=4.6.0->sentence-transformers) (2.24.0)\n",
      "Requirement already satisfied: regex!=2019.12.17 in /opt/anaconda3/lib/python3.8/site-packages (from transformers<5.0.0,>=4.6.0->sentence-transformers) (2021.8.27)\n",
      "Requirement already satisfied: packaging>=20.0 in /opt/anaconda3/lib/python3.8/site-packages (from transformers<5.0.0,>=4.6.0->sentence-transformers) (21.3)\n",
      "Requirement already satisfied: tokenizers!=0.11.3,>=0.10.1 in /opt/anaconda3/lib/python3.8/site-packages (from transformers<5.0.0,>=4.6.0->sentence-transformers) (0.11.5)\n",
      "Requirement already satisfied: filelock in /opt/anaconda3/lib/python3.8/site-packages (from transformers<5.0.0,>=4.6.0->sentence-transformers) (3.0.12)\n",
      "Requirement already satisfied: pyyaml>=5.1 in /opt/anaconda3/lib/python3.8/site-packages (from transformers<5.0.0,>=4.6.0->sentence-transformers) (5.3.1)\n",
      "Requirement already satisfied: threadpoolctl>=2.0.0 in /opt/anaconda3/lib/python3.8/site-packages (from scikit-learn->sentence-transformers) (2.1.0)\n",
      "Requirement already satisfied: joblib>=0.11 in /opt/anaconda3/lib/python3.8/site-packages (from scikit-learn->sentence-transformers) (0.16.0)\n",
      "Requirement already satisfied: typing-extensions in /opt/anaconda3/lib/python3.8/site-packages (from torch>=1.6.0->sentence-transformers) (4.1.1)\n",
      "Requirement already satisfied: pillow!=8.3.0,>=5.3.0 in /opt/anaconda3/lib/python3.8/site-packages (from torchvision->sentence-transformers) (7.2.0)\n",
      "Requirement already satisfied: click in /opt/anaconda3/lib/python3.8/site-packages (from nltk->sentence-transformers) (7.1.2)\n",
      "Requirement already satisfied: six in /opt/anaconda3/lib/python3.8/site-packages (from sacremoses->transformers<5.0.0,>=4.6.0->sentence-transformers) (1.15.0)\n",
      "Requirement already satisfied: idna<3,>=2.5 in /opt/anaconda3/lib/python3.8/site-packages (from requests->transformers<5.0.0,>=4.6.0->sentence-transformers) (2.10)\n",
      "Requirement already satisfied: chardet<4,>=3.0.2 in /opt/anaconda3/lib/python3.8/site-packages (from requests->transformers<5.0.0,>=4.6.0->sentence-transformers) (3.0.4)\n",
      "Requirement already satisfied: urllib3!=1.25.0,!=1.25.1,<1.26,>=1.21.1 in /opt/anaconda3/lib/python3.8/site-packages (from requests->transformers<5.0.0,>=4.6.0->sentence-transformers) (1.25.9)\n",
      "Requirement already satisfied: certifi>=2017.4.17 in /opt/anaconda3/lib/python3.8/site-packages (from requests->transformers<5.0.0,>=4.6.0->sentence-transformers) (2020.6.20)\n",
      "Requirement already satisfied: pyparsing!=3.0.5,>=2.0.2 in /opt/anaconda3/lib/python3.8/site-packages (from packaging>=20.0->transformers<5.0.0,>=4.6.0->sentence-transformers) (2.4.7)\n"
     ]
    }
   ],
   "source": [
    "!pip install transformers\n",
    "!pip install sentence-transformers"
   ]
  },
  {
   "cell_type": "code",
   "execution_count": 44,
   "metadata": {},
   "outputs": [],
   "source": [
    "from transformers import RobertaTokenizer, T5ForConditionalGeneration\n",
    "\n",
    "tokenizer = RobertaTokenizer.from_pretrained('Salesforce/codet5-base')\n",
    "code_t5 = T5ForConditionalGeneration.from_pretrained('Salesforce/codet5-base-multi-sum')"
   ]
  },
  {
   "cell_type": "code",
   "execution_count": 45,
   "metadata": {},
   "outputs": [],
   "source": [
    "def summarize_code(text):\n",
    "    input_ids = tokenizer(text, return_tensors=\"pt\").input_ids\n",
    "    generated_ids = code_t5.generate(input_ids)\n",
    "    summary = tokenizer.decode(generated_ids[0], skip_special_tokens=True)\n",
    "    return summary"
   ]
  },
  {
   "cell_type": "markdown",
   "metadata": {},
   "source": [
    "## Här är några summeringar av funktioner med deras implementation\n"
   ]
  },
  {
   "cell_type": "code",
   "execution_count": 46,
   "metadata": {},
   "outputs": [
    {
     "name": "stdout",
     "output_type": "stream",
     "text": [
      "Print a greet message.\n",
      "Greet the name of the node.\n",
      "Convert a SVG string to a QImage.\n",
      "Greet a name and a message.\n",
      "Binary search for a node in a list of node objects.\n",
      "Binary search for a node in a list.\n",
      "Return the distance between two points.\n",
      "Distance between two points.\n",
      "Return the distance between two points.\n"
     ]
    }
   ],
   "source": [
    "print(summarize_code('''\n",
    "def greet(name):\n",
    "  print(\"Hello, \" + name)\n",
    "'''))\n",
    "\n",
    "print(summarize_code('''\n",
    "def greet(name = None):\n",
    "  if name:\n",
    "    print(\"Hello, \" + name + \"!\")\n",
    "  else:\n",
    "    print(\"Hello, there!\")\n",
    "'''))\n",
    "\n",
    "print(summarize_code('''\n",
    "def svg_to_image(string, size=None):\n",
    "    if isinstance(string, unicode):\n",
    "        string = string.encode('utf-8')\n",
    "        renderer = QtSvg.QSvgRenderer(QtCore.QByteArray(string))\n",
    "    if not renderer.isValid():\n",
    "        raise ValueError('Invalid SVG data.')\n",
    "    if size is None:\n",
    "        size = renderer.defaultSize()\n",
    "        image = QtGui.QImage(size, QtGui.QImage.Format_ARGB32)\n",
    "        painter = QtGui.QPainter(image)\n",
    "        renderer.render(painter)\n",
    "    return image\n",
    "'''))\n",
    "\n",
    "print(summarize_code('''\n",
    "def greet(name, message=\"How are you today?\"):\n",
    "  print(\"Hello, \" + name + \"!\")\n",
    "  print(message)\n",
    "'''))\n",
    "\n",
    "print(summarize_code('''\n",
    "def binary_search(arr, x):\n",
    "    low = 0\n",
    "    high = len(arr) - 1\n",
    "    mid = 0\n",
    " \n",
    "    while low <= high:\n",
    " \n",
    "        mid = (high + low) // 2\n",
    " \n",
    "        # If x is greater, ignore left half\n",
    "        if arr[mid] < x:\n",
    "            low = mid + 1\n",
    " \n",
    "        # If x is smaller, ignore right half\n",
    "        elif arr[mid] > x:\n",
    "            high = mid - 1\n",
    " \n",
    "        # means x is present at mid\n",
    "        else:\n",
    "            return mid\n",
    " \n",
    "    # If we reach here, then the element was not present\n",
    "    return -1\n",
    "'''))\n",
    "\n",
    "# introduce some bugs:\n",
    "print(summarize_code('''\n",
    "def binary_search(arr, x):\n",
    "    low = 0\n",
    "    high = len(arr) - 1\n",
    "    mid = 0\n",
    " \n",
    "    while low < high:\n",
    " \n",
    "        mid = (high + low) // 2\n",
    " \n",
    "        # If x is greater, ignore left half\n",
    "        if arr[mid] < x:\n",
    "            low = mid + 1\n",
    " \n",
    "        # If x is smaller, ignore right half\n",
    "        elif arr[mid] > x:\n",
    "            high = mid - 1\n",
    " \n",
    "        # means x is present at mid\n",
    "        else:\n",
    "            return mid\n",
    "'''))\n",
    "\n",
    "# Bug 1\n",
    "print(summarize_code('''\n",
    "def dist(x1, x2, y1, y2):\n",
    "  return 45\n",
    "'''))\n",
    "\n",
    "# Bug 2 - ingen roten ur\n",
    "print(summarize_code('''\n",
    "def dist(x1, x2, y1, y2):\n",
    "  return pow(x1-x2, 2) + pow(y1-y2, 2)\n",
    "'''))\n",
    "\n",
    "# Bugfix\n",
    "print(summarize_code('''\n",
    "def dist(x1, x2, y1, y2):\n",
    "  return pow(pow(x1-x2, 2) + pow(y1-y2, 2), 0.5)\n",
    "'''))"
   ]
  },
  {
   "cell_type": "markdown",
   "metadata": {},
   "source": [
    "## Här är motsvarande summeringar av enbart signaturerna\n",
    "Anledningen till att jag inte har med returns är för att det kan finnas flera branches genom koden med olika returns, vilket gör det otydligt vad man ska ha kvar / ta bort."
   ]
  },
  {
   "cell_type": "code",
   "execution_count": 51,
   "metadata": {},
   "outputs": [
    {
     "name": "stdout",
     "output_type": "stream",
     "text": [
      "Greedy function to create a greet.\n",
      "Greedy function to call when a node is greeted.\n",
      "Convert SVG string to image.\n",
      "A function to print a greet message.\n",
      "Calculate the distance between 2 points\n",
      "Binary search for an element in an array.\n",
      "Distance between two points.\n",
      "Distance between two points.\n",
      "Distance between two points.\n"
     ]
    }
   ],
   "source": [
    "print(summarize_code('''\n",
    "def greet(name):\n",
    "'''))\n",
    "\n",
    "print(summarize_code('''\n",
    "def greet(name = None):\n",
    "'''))\n",
    "\n",
    "print(summarize_code('''\n",
    "def svg_to_image(string, size=None):\n",
    "'''))\n",
    "\n",
    "print(summarize_code('''\n",
    "def greet(name, message=\"How are you today?\"):\n",
    "'''))\n",
    "\n",
    "print(summarize_code('''\n",
    "def binary_search(arr, x):\n",
    "'''))\n",
    "\n",
    "# introduce some bugs:\n",
    "print(summarize_code('''\n",
    "def binary_search(arr, x):\n",
    "'''))\n",
    "\n",
    "# Bug 1\n",
    "print(summarize_code('''\n",
    "def dist(x1, x2, y1, y2):\n",
    "'''))\n",
    "\n",
    "# Bug 2 - ingen roten ur\n",
    "print(summarize_code('''\n",
    "def dist(x1, x2, y1, y2):\n",
    "'''))\n",
    "\n",
    "# Bugfix\n",
    "print(summarize_code('''\n",
    "def dist(x1, x2, y1, y2):\n",
    "'''))"
   ]
  },
  {
   "cell_type": "markdown",
   "metadata": {},
   "source": [
    "De första översättningarna blev märkbart sämre vilket inte är så konstigt då mycket information om funktionen låg i implementationen. Möjligtvis hade detta kunnat bli bättre med en doc-string?"
   ]
  },
  {
   "cell_type": "markdown",
   "metadata": {},
   "source": [
    "## Prova med signatur och doc-string"
   ]
  },
  {
   "cell_type": "code",
   "execution_count": 61,
   "metadata": {},
   "outputs": [
    {
     "name": "stdout",
     "output_type": "stream",
     "text": [
      "Binary search for a non - empty list.\n",
      "Binary search for x in a tree.\n",
      "Binary search for x in a tree\n",
      "Calculate this distance between two points in 3D.\n"
     ]
    }
   ],
   "source": [
    "print(summarize_code('''\n",
    "def binary_search(arr, x):\n",
    "    \"\"\"This is an incorrect docstring\"\"\"\n",
    "'''))\n",
    "\n",
    "print(summarize_code('''\n",
    "def binary_search(arr, x):\n",
    "    \"\"\"Binary search for x in a tree\"\"\"\n",
    "'''))\n",
    "\n",
    "print(summarize_code('''\n",
    "def svg_to_image(svg):\n",
    "    \"\"\"Binary search for x in a tree\"\"\"\n",
    "'''))\n",
    "\n",
    "print(summarize_code('''\n",
    "def dist(x1, x2, y1, y2):\n",
    "    \"\"\"Calculate this distance between two points in 3D\"\"\"\n",
    "'''))"
   ]
  },
  {
   "cell_type": "markdown",
   "metadata": {},
   "source": [
    "Det verkar som att väldigt mycket vikt ges åt vad som står i doc-stringen, ibland så pass mycket att den bara kopieras (dock inte alltid). Detta är problematiskt eftersom utvecklare troligtvis ofta glömmer att uppdatera doc-strings när de ändrar i koden. Om vi dock antar att doc-strings alltid är uppdaterade hade vi nog kunnat använda de som input till SBERT och antagligen få ganska bra resultat."
   ]
  },
  {
   "cell_type": "markdown",
   "metadata": {},
   "source": [
    "## Testar även med lite fler signaturer..."
   ]
  },
  {
   "cell_type": "code",
   "execution_count": 48,
   "metadata": {},
   "outputs": [
    {
     "name": "stdout",
     "output_type": "stream",
     "text": [
      "Add a value to the set.\n",
      "Add a point to the map.\n",
      "Add an item to the list\n",
      "Add items to the list.\n",
      "Fit the model to the current model.\n",
      "Fit the model to the current model.\n",
      "Fit a model to a model with a given learning rate.\n",
      "Fit a model to a list of examples.\n",
      "Fit the model with the given examples.\n",
      "Fit the model to the examples.\n"
     ]
    }
   ],
   "source": [
    "signatures = [\n",
    "    \"def add(x):\",\n",
    "    \"def add(x, y):\",\n",
    "    \"def add(item):\",\n",
    "    \"def add(items):\",\n",
    "    \n",
    "    \"def fit(lr=0.1):\",\n",
    "    \"def fit(lr=3):\",\n",
    "    \"def fit(lr=0.2, batch_size=16):\"\n",
    "    \"def fit(lr=0.2, batch_size=16, epochs=3):\",\n",
    "    \"def fit(examples, lr=0.2, batch_size=16, epochs=3):\",\n",
    "    \"def fit(examples, lr, batch_size, epochs):\",\n",
    "    \"def fit(examples):\",\n",
    "]\n",
    "for s in signatures:\n",
    "    print(summarize_code(s))"
   ]
  },
  {
   "cell_type": "markdown",
   "metadata": {},
   "source": [
    "Bra namn på parametrar ger bättre summeringar. Däremot verkar CodeT5 inte fånga upp ändringar i antalet parametrar eller default värden. Hade man kunnat träna fram detta? "
   ]
  },
  {
   "cell_type": "markdown",
   "metadata": {},
   "source": [
    "## Slutsats\n",
    "\n",
    "CodeT5 ger inte tillräckligt bra summeringar out of the box i vårt fall.\n",
    "Möjliga sätt att gå vidare:\n",
    "- Undersök om det hade gått att fine-tuna CodeT5\n",
    "- Prova om det funkar bättre med CodeBERT\n",
    "- Antag att doc-strings i koden är uppdaterade och använd dem som input (Den lättaste lösningen)"
   ]
  },
  {
   "cell_type": "code",
   "execution_count": null,
   "metadata": {},
   "outputs": [],
   "source": []
  }
 ],
 "metadata": {
  "kernelspec": {
   "display_name": "Python 3",
   "language": "python",
   "name": "python3"
  },
  "language_info": {
   "codemirror_mode": {
    "name": "ipython",
    "version": 3
   },
   "file_extension": ".py",
   "mimetype": "text/x-python",
   "name": "python",
   "nbconvert_exporter": "python",
   "pygments_lexer": "ipython3",
   "version": "3.8.3"
  }
 },
 "nbformat": 4,
 "nbformat_minor": 4
}
