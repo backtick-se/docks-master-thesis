{
 "cells": [
  {
   "cell_type": "markdown",
   "metadata": {},
   "source": [
    "# Upptäck signaturer som inte längre används i koden men fortfarande finns med i dokumentationen\n",
    "\n",
    "Givet genererade signaturer för funktioner i nya och gamla versionen av koden (funktionsnamn, variabelnamn, ev. m.m.) och en dokumentation av koden:\n",
    "- Sök igenom dokumentationen efter gamla signaturer som har ändrats\n",
    "- Om dessa förekommer i dokumentationen finns det en chans att man har glömt att uppdatera dem.\n",
    "\n",
    "Edge cases:\n",
    "- Funktioner med samma namn i olika delar av koden\n",
    "- Funktioner med vanliga namn som även används som vanlig text i dokumentationen utan att syfta på någon funktion\n",
    "- Namnet på en parameter används bara i vissa fall i python, alltså om den byter namn är det inte sagt att anroparna påverkas (skulle kunna ignoreras till en början)\n",
    "- Aliases av funktionsnamn ex. path i Django\n",
    "\n",
    "Ännu mer konkret skulle kunna vara att specifiera hur en signatur kan ändras\n",
    "- Funktionsnamnet kan ändras\n",
    "- Funktionen kan tas bort\n",
    "- En parameter kan läggas till / byta namn / tas bort\n",
    "- En parameter kan få ett nytt default värde\n",
    "- En parameter kan annoteras med en viss typ\n",
    "\n",
    "Det allra enklaste fallet att börja titta på är när funktionsnamnet ändras..."
   ]
  },
  {
   "cell_type": "code",
   "execution_count": 2,
   "metadata": {},
   "outputs": [],
   "source": [
    "import inspect\n",
    "import re"
   ]
  },
  {
   "cell_type": "code",
   "execution_count": 46,
   "metadata": {},
   "outputs": [],
   "source": [
    "\n",
    "# Extraherar signaturer (funktionsnamn) vid definitioner\n",
    "def extract_signatures(string):\n",
    "  pattern = r\"def +([a-zA-Z0-9_]+)\"\n",
    "  matches = re.findall(pattern, string, flags=0)\n",
    "  return set(matches)\n",
    "\n",
    "# Extraherar signaturer (funktionsnamn) vid funktionsanrop\n",
    "def extract_signatures_usage(string):\n",
    "  pattern = r\"\\.([a-zA-Z0-9_]+)\\(\"\n",
    "  matches = re.findall(pattern, string, flags=0)\n",
    "  return set(matches)\n",
    "\n",
    "# Extraherar signaturer från en fil, mha någon av ovanstående funktioner\n",
    "def extract_signatures_file(filename, extract_fn=extract_signatures):\n",
    "  with open(filename) as f:\n",
    "      return extract_fn(f.read())\n",
    "\n",
    "# Upptäck signaturer som har ändrats givet dokumentation, gammal kod och ny kod\n",
    "# Signaturer som finns med i dokumentationen och i den gamla koden, men inte i den nya\n",
    "# har sannolikt tagits bort / bytt namn - Flagga dessa!\n",
    "def check(docs, old_signatures, new_signatures):\n",
    "  # Find signatures that no longer exist in the code\n",
    "  to_check = old_signatures.difference(new_signatures)\n",
    "  for signature in to_check:\n",
    "    if signature in docs:\n",
    "      print(f\"Doc alert - {signature} is no longer found in the code, but still present in the documentation\")"
   ]
  },
  {
   "cell_type": "markdown",
   "metadata": {},
   "source": [
    "# Testa hur det fungerar på Cowait"
   ]
  },
  {
   "cell_type": "code",
   "execution_count": 48,
   "metadata": {},
   "outputs": [
    {
     "name": "stdout",
     "output_type": "stream",
     "text": [
      "fatal: destination path 'cowait' already exists and is not an empty directory.\n"
     ]
    }
   ],
   "source": [
    "!git clone https://github.com/backtick-se/cowait"
   ]
  },
  {
   "cell_type": "code",
   "execution_count": 49,
   "metadata": {},
   "outputs": [
    {
     "name": "stdout",
     "output_type": "stream",
     "text": [
      "Dockerfile     \u001b[31mbuild.sh\u001b[m\u001b[m       \u001b[34mexamples\u001b[m\u001b[m       poetry.lock    setup.py\n",
      "LICENSE        \u001b[34mcloud\u001b[m\u001b[m          \u001b[34mimages\u001b[m\u001b[m         \u001b[31mpublish.sh\u001b[m\u001b[m     \u001b[34mtest\u001b[m\u001b[m\n",
      "README.md      \u001b[34mcowait\u001b[m\u001b[m         k8setup.yml    pyproject.toml \u001b[31mtest.sh\u001b[m\u001b[m\n",
      "\u001b[34massets\u001b[m\u001b[m         \u001b[34mdocs\u001b[m\u001b[m           \u001b[34mnotebook\u001b[m\u001b[m       pytest.ini\n"
     ]
    }
   ],
   "source": [
    "!ls cowait"
   ]
  },
  {
   "cell_type": "code",
   "execution_count": 65,
   "metadata": {},
   "outputs": [],
   "source": [
    "from os import listdir\n",
    "from os.path import isfile, isdir\n",
    "import numpy as np\n",
    "from tqdm import tqdm\n",
    "\n",
    "class Extractor:\n",
    "\n",
    "    def __init__(self, fileType: str):\n",
    "        self.fileType = fileType\n",
    "\n",
    "    def find_files(self, start: str):\n",
    "        files = []\n",
    "\n",
    "        for fd in listdir(start):\n",
    "            path = f'{start}/{fd}'\n",
    "\n",
    "            if isfile(path):\n",
    "                ext = f'.{self.fileType}'\n",
    "                if fd[-len(ext):] == ext: files.append(path)\n",
    "            else:\n",
    "                f = self.find_files(path)\n",
    "                files += f if f else []\n",
    "\n",
    "        return files\n",
    "\n",
    "    def get_content(self, file: str, skipError: bool=True):\n",
    "        if not isfile(file):\n",
    "            raise ValueError(f'{file} is not a file')\n",
    "\n",
    "        try:\n",
    "            with open(file) as f:\n",
    "                return f.read()\n",
    "        except Exception as e:\n",
    "            if skipError: print(f'Parsing error, skipping file: {file}, {e}')\n",
    "            else: raise e\n",
    "\n",
    "    def extract(self, dir: str):\n",
    "        if not isdir(dir):\n",
    "            raise ValueError(f'{dir} is not a directory')\n",
    "\n",
    "        files = self.find_files(dir)\n",
    "        return np.array([self.get_content(f) for f in tqdm(files)])"
   ]
  },
  {
   "cell_type": "code",
   "execution_count": 66,
   "metadata": {},
   "outputs": [
    {
     "name": "stdout",
     "output_type": "stream",
     "text": [
      "454\n"
     ]
    }
   ],
   "source": [
    "signatures_old_code = set()\n",
    "for file in Extractor('py').find_files('cowait'):\n",
    "    signatures_old_code = signatures_old_code.union(extract_signatures_file(file))\n",
    "print(len(signatures_old_code))"
   ]
  },
  {
   "cell_type": "code",
   "execution_count": 67,
   "metadata": {},
   "outputs": [
    {
     "name": "stdout",
     "output_type": "stream",
     "text": [
      "23\n"
     ]
    }
   ],
   "source": [
    "signatures_doc = set()\n",
    "for file in Extractor('md').find_files('cowait'):\n",
    "    signatures_doc = signatures_doc.union(extract_signatures_file(file))\n",
    "print(len(signatures_doc))"
   ]
  },
  {
   "cell_type": "code",
   "execution_count": 71,
   "metadata": {},
   "outputs": [
    {
     "data": {
      "text/plain": [
       "{'add',\n",
       " 'after',\n",
       " 'before',\n",
       " 'deserialize',\n",
       " 'init',\n",
       " 'run',\n",
       " 'serialize',\n",
       " 'set_called',\n",
       " 'test_sleep',\n",
       " 'validate'}"
      ]
     },
     "execution_count": 71,
     "metadata": {},
     "output_type": "execute_result"
    }
   ],
   "source": [
    "# De här signaturerna finns med både i koden och dokumentationen\n",
    "signatures_doc.intersection(signatures_old_code)"
   ]
  },
  {
   "cell_type": "markdown",
   "metadata": {},
   "source": [
    "# Testa t.ex att byta namn på `test_sleep` funktionen i koden innan vi kör vidare...."
   ]
  },
  {
   "cell_type": "code",
   "execution_count": 69,
   "metadata": {},
   "outputs": [
    {
     "name": "stdout",
     "output_type": "stream",
     "text": [
      "454\n"
     ]
    }
   ],
   "source": [
    "signatures_new_code = set()\n",
    "for file in Extractor('py').find_files('cowait'):\n",
    "    signatures_new_code = signatures_new_code.union(extract_signatures_file(file))\n",
    "print(len(signatures_new_code))"
   ]
  },
  {
   "cell_type": "code",
   "execution_count": 70,
   "metadata": {},
   "outputs": [
    {
     "name": "stdout",
     "output_type": "stream",
     "text": [
      "Doc alert - test_sleep is no longer found in the code, but still present in the documentation\n"
     ]
    }
   ],
   "source": [
    "check(signatures_doc, signatures_old_code, signatures_new_code)"
   ]
  },
  {
   "cell_type": "code",
   "execution_count": null,
   "metadata": {},
   "outputs": [],
   "source": []
  }
 ],
 "metadata": {
  "kernelspec": {
   "display_name": "Python 3",
   "language": "python",
   "name": "python3"
  },
  "language_info": {
   "codemirror_mode": {
    "name": "ipython",
    "version": 3
   },
   "file_extension": ".py",
   "mimetype": "text/x-python",
   "name": "python",
   "nbconvert_exporter": "python",
   "pygments_lexer": "ipython3",
   "version": "3.8.3"
  }
 },
 "nbformat": 4,
 "nbformat_minor": 4
}
