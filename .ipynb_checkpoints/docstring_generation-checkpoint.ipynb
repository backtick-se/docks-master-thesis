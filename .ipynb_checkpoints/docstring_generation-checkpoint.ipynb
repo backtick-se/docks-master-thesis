{
 "cells": [
  {
   "cell_type": "code",
   "execution_count": 1,
   "id": "1307a7bf",
   "metadata": {},
   "outputs": [
    {
     "name": "stdout",
     "output_type": "stream",
     "text": [
      "[\"def _stringifyText(text):\\n    if PY2:\\n        acceptedTypes = (unicode, str, int, float, bool)\\n    else:\\n        acceptedTypes = (str, int, float, bool)\\n    if not isinstance(text, acceptedTypes):\\n        raise PyperclipException('only str, int, float, and bool values can be copied to the clipboard, not %s' % (text.__class__.__name__))\\n    return STR_OR_UNICODE(text)\"]\n"
     ]
    }
   ],
   "source": [
    "import numpy as np\n",
    "\n",
    "data = np.array([\n",
    "    \"\"\"\n",
    "    def _stringifyText(text):\n",
    "        if PY2:\n",
    "            acceptedTypes = (unicode, str, int, float, bool)\n",
    "        else:\n",
    "            acceptedTypes = (str, int, float, bool)\n",
    "        if not isinstance(text, acceptedTypes):\n",
    "            raise PyperclipException('only str, int, float, and bool values can be copied to the clipboard, not %s' % (text.__class__.__name__))\n",
    "        return STR_OR_UNICODE(text)\n",
    "    \"\"\",\n",
    "])\n",
    "\n",
    "print(data)"
   ]
  },
  {
   "cell_type": "code",
   "execution_count": null,
   "id": "ff0f89ef",
   "metadata": {},
   "outputs": [],
   "source": []
  }
 ],
 "metadata": {
  "kernelspec": {
   "display_name": "Python 3",
   "language": "python",
   "name": "python3"
  },
  "language_info": {
   "codemirror_mode": {
    "name": "ipython",
    "version": 3
   },
   "file_extension": ".py",
   "mimetype": "text/x-python",
   "name": "python",
   "nbconvert_exporter": "python",
   "pygments_lexer": "ipython3",
   "version": "3.8.8"
  }
 },
 "nbformat": 4,
 "nbformat_minor": 5
}
